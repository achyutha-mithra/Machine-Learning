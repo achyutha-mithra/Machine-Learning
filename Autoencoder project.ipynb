{
 "cells": [
  {
   "cell_type": "markdown",
   "metadata": {
    "colab": {},
    "colab_type": "code",
    "id": "5d3XoC9jY9Jr"
   },
   "source": [
    "# VSB using AE (Anamoly detection)"
   ]
  },
  {
   "cell_type": "markdown",
   "metadata": {},
   "source": [
    "Connecting colab to google drive."
   ]
  },
  {
   "cell_type": "code",
   "execution_count": null,
   "metadata": {
    "colab": {
     "base_uri": "https://localhost:8080/",
     "height": 34
    },
    "colab_type": "code",
    "id": "PIB9s215ZAfn",
    "outputId": "4cf06783-9b6d-4b69-9e49-590fb1a84960"
   },
   "outputs": [],
   "source": [
    "from google.colab import drive\n",
    "drive.mount('/content/drive')"
   ]
  },
  {
   "cell_type": "markdown",
   "metadata": {},
   "source": [
    "Extracting data to a specific folder."
   ]
  },
  {
   "cell_type": "code",
   "execution_count": 0,
   "metadata": {
    "colab": {},
    "colab_type": "code",
    "id": "5JmS5yPdZxSR"
   },
   "outputs": [],
   "source": [
    "import zipfile\n",
    "zip_ref = zipfile.ZipFile(\"/content/preprocessed.zip\", 'r')\n",
    "zip_ref.extractall(\"/content/data1\")\n",
    "zip_ref.close()"
   ]
  },
  {
   "cell_type": "code",
   "execution_count": 0,
   "metadata": {
    "colab": {},
    "colab_type": "code",
    "id": "xfk8Y0YOaC4R"
   },
   "outputs": [],
   "source": [
    "import os\n",
    "a=os.listdir('/content/data1')"
   ]
  },
  {
   "cell_type": "markdown",
   "metadata": {
    "colab": {},
    "colab_type": "code",
    "id": "zIppUNW5a59h"
   },
   "source": [
    "Since initially we don't know the index locations of the classes(0 & 1), we will be distinguishing the images corresponding to class 1 only.\n",
    "* To do this, we will first generate a list of strings which match with the image names we are trying to find out the index locations of.\n",
    "* We then run a loop and if a match is found between the real directory containing images and the list previously created, we will be collecting index locations of the image names corresponding to class 1.\n",
    "\n"
   ]
  },
  {
   "cell_type": "code",
   "execution_count": 0,
   "metadata": {
    "colab": {},
    "colab_type": "code",
    "id": "dEUffILef1Td"
   },
   "outputs": [],
   "source": [
    "#Step 1\n",
    "list1=[]\n",
    "for i in range(0,580):\n",
    "    if i%3==0:\n",
    "        list1.append('sample_1_'+str(i)+'.png')\n",
    "\n",
    "#Step 2        \n",
    "list2=[]\n",
    "for i in range(0,len(a)):\n",
    "      if a[i] in list1:\n",
    "        list2.append(i)"
   ]
  },
  {
   "cell_type": "code",
   "execution_count": 5,
   "metadata": {
    "colab": {
     "base_uri": "https://localhost:8080/",
     "height": 34
    },
    "colab_type": "code",
    "id": "f8PWBrvAiCw-",
    "outputId": "9667f63d-5319-4265-ae9e-aaa0094cc45e"
   },
   "outputs": [
    {
     "data": {
      "text/plain": [
       "194"
      ]
     },
     "execution_count": 5,
     "metadata": {
      "tags": []
     },
     "output_type": "execute_result"
    }
   ],
   "source": [
    "len(list2)"
   ]
  },
  {
   "cell_type": "markdown",
   "metadata": {},
   "source": [
    "Importing all necessary API's"
   ]
  },
  {
   "cell_type": "code",
   "execution_count": 6,
   "metadata": {
    "colab": {
     "base_uri": "https://localhost:8080/",
     "height": 34
    },
    "colab_type": "code",
    "id": "vKizbdYQiH--",
    "outputId": "81e6657c-5ece-462e-a6fe-6f95b75fc373"
   },
   "outputs": [
    {
     "name": "stderr",
     "output_type": "stream",
     "text": [
      "Using TensorFlow backend.\n"
     ]
    }
   ],
   "source": [
    "# For controlling Python warnings - https://docs.python.org/3.6/library/warnings.html\n",
    "import warnings\n",
    "warnings.filterwarnings(\"ignore\")\n",
    "\n",
    "# For iterators - https://docs.python.org/3.1/library/itertools.html\n",
    "import itertools\n",
    "\n",
    "# For loading and handling data\n",
    "import numpy as np\n",
    "import pandas as pd\n",
    "\n",
    "# For Normalization\n",
    "from sklearn.preprocessing import MinMaxScaler\n",
    "\n",
    "# For constructing DNN\n",
    "import tensorflow as tf\n",
    "tf.logging.set_verbosity(tf.logging.ERROR)\n",
    "from keras.layers import Input,Dropout,Dense \n",
    "from keras.models import Model\n",
    "from keras import regularizers\n",
    "from keras.utils.data_utils import get_file\n",
    "\n",
    "# For visualization\n",
    "import matplotlib.pyplot as plt\n",
    "\n",
    "# For evaluating the accuracy\n",
    "from sklearn.metrics import confusion_matrix,accuracy_score,recall_score,precision_score,f1_score\n",
    "%matplotlib inline\n",
    "import os\n",
    "from PIL import Image"
   ]
  },
  {
   "cell_type": "markdown",
   "metadata": {},
   "source": [
    "Loading data"
   ]
  },
  {
   "cell_type": "code",
   "execution_count": 0,
   "metadata": {
    "colab": {},
    "colab_type": "code",
    "id": "TvgDjb-yij8o"
   },
   "outputs": [],
   "source": [
    "from numpy import *\n",
    "path1='/content/data1'\n",
    "imlist=os.listdir(path1)\n",
    "num_samples=size(imlist)"
   ]
  },
  {
   "cell_type": "code",
   "execution_count": 8,
   "metadata": {
    "colab": {
     "base_uri": "https://localhost:8080/",
     "height": 34
    },
    "colab_type": "code",
    "id": "I0Qb8r7HiuJy",
    "outputId": "dc666fe4-1dc9-437d-d1b9-16b55f350570"
   },
   "outputs": [
    {
     "data": {
      "text/plain": [
       "2904"
      ]
     },
     "execution_count": 8,
     "metadata": {
      "tags": []
     },
     "output_type": "execute_result"
    }
   ],
   "source": [
    "num_samples"
   ]
  },
  {
   "cell_type": "markdown",
   "metadata": {},
   "source": [
    "Converting data into a matrix of vectors."
   ]
  },
  {
   "cell_type": "code",
   "execution_count": 0,
   "metadata": {
    "colab": {},
    "colab_type": "code",
    "id": "mNOiVHNRivXr"
   },
   "outputs": [],
   "source": [
    "immatrix=array([array(Image.open('/content/data1' + '/' + im2)).flatten() for im2 in imlist], 'f')"
   ]
  },
  {
   "cell_type": "code",
   "execution_count": 10,
   "metadata": {
    "colab": {
     "base_uri": "https://localhost:8080/",
     "height": 34
    },
    "colab_type": "code",
    "id": "L6WOOxfyi3jO",
    "outputId": "6e249355-d798-46b4-d025-7d7a13505c5e"
   },
   "outputs": [
    {
     "data": {
      "text/plain": [
       "2904"
      ]
     },
     "execution_count": 10,
     "metadata": {
      "tags": []
     },
     "output_type": "execute_result"
    }
   ],
   "source": [
    "len(immatrix)"
   ]
  },
  {
   "cell_type": "markdown",
   "metadata": {},
   "source": [
    "Creating an array of size equal to the row size of the data with initial values 1. We will then use the index locations which we found out earlier to change these label values to either 0 (if index of the new loop does not match with label) or 1 (if index of the new loop matches with the label)"
   ]
  },
  {
   "cell_type": "code",
   "execution_count": 0,
   "metadata": {
    "colab": {},
    "colab_type": "code",
    "id": "O3QE0k0ki-g5"
   },
   "outputs": [],
   "source": [
    "labels=np.ones((num_samples,), dtype=int)"
   ]
  },
  {
   "cell_type": "code",
   "execution_count": 0,
   "metadata": {
    "colab": {},
    "colab_type": "code",
    "id": "A1eneWWIjGzW"
   },
   "outputs": [],
   "source": [
    "for i in range(0,len(labels)):\n",
    "  if i in list2:\n",
    "    labels[i]=1\n",
    "  else:\n",
    "    labels[i]=0"
   ]
  },
  {
   "cell_type": "markdown",
   "metadata": {
    "colab": {
     "base_uri": "https://localhost:8080/",
     "height": 34
    },
    "colab_type": "code",
    "id": "z0InWfTGjJAo",
    "outputId": "7f8788dd-5f1e-4a71-e377-02e43d1338db"
   },
   "source": [
    "Normalizing data between 0 and 1. And then creating a dataframe out of it."
   ]
  },
  {
   "cell_type": "code",
   "execution_count": 0,
   "metadata": {
    "colab": {},
    "colab_type": "code",
    "id": "LjAoUjWOjTvS"
   },
   "outputs": [],
   "source": [
    "new1=((immatrix-immatrix.min())/(immatrix.max()-immatrix.min()))\n",
    "df1=pd.DataFrame(new1,index=new1[:,0])"
   ]
  },
  {
   "cell_type": "markdown",
   "metadata": {
    "colab": {
     "base_uri": "https://localhost:8080/",
     "height": 34
    },
    "colab_type": "code",
    "id": "3kkeyl2No9pM",
    "outputId": "54995992-72a0-4b5d-bdb3-3e51302f1dd3"
   },
   "source": [
    "Adding a new column(the labels array which we worked with earlier) to the dataframe."
   ]
  },
  {
   "cell_type": "code",
   "execution_count": 0,
   "metadata": {
    "colab": {},
    "colab_type": "code",
    "id": "pxGUVNcRpGSq"
   },
   "outputs": [],
   "source": [
    "defi=labels.tolist()\n",
    "df1['class']=labels"
   ]
  },
  {
   "cell_type": "code",
   "execution_count": 20,
   "metadata": {
    "colab": {
     "base_uri": "https://localhost:8080/",
     "height": 185
    },
    "colab_type": "code",
    "id": "TalH97gXqstY",
    "outputId": "a518f4a4-452d-4eb5-b95e-e379746a71ea"
   },
   "outputs": [
    {
     "data": {
      "text/html": [
       "<div>\n",
       "<style scoped>\n",
       "    .dataframe tbody tr th:only-of-type {\n",
       "        vertical-align: middle;\n",
       "    }\n",
       "\n",
       "    .dataframe tbody tr th {\n",
       "        vertical-align: top;\n",
       "    }\n",
       "\n",
       "    .dataframe thead th {\n",
       "        text-align: right;\n",
       "    }\n",
       "</style>\n",
       "<table border=\"1\" class=\"dataframe\">\n",
       "  <thead>\n",
       "    <tr style=\"text-align: right;\">\n",
       "      <th></th>\n",
       "      <th>0</th>\n",
       "      <th>1</th>\n",
       "      <th>2</th>\n",
       "      <th>3</th>\n",
       "      <th>4</th>\n",
       "      <th>5</th>\n",
       "      <th>6</th>\n",
       "      <th>7</th>\n",
       "      <th>8</th>\n",
       "      <th>9</th>\n",
       "      <th>10</th>\n",
       "      <th>11</th>\n",
       "      <th>12</th>\n",
       "      <th>13</th>\n",
       "      <th>14</th>\n",
       "      <th>15</th>\n",
       "      <th>16</th>\n",
       "      <th>17</th>\n",
       "      <th>18</th>\n",
       "      <th>19</th>\n",
       "      <th>20</th>\n",
       "      <th>21</th>\n",
       "      <th>22</th>\n",
       "      <th>23</th>\n",
       "      <th>24</th>\n",
       "      <th>25</th>\n",
       "      <th>26</th>\n",
       "      <th>27</th>\n",
       "      <th>28</th>\n",
       "      <th>29</th>\n",
       "      <th>30</th>\n",
       "      <th>31</th>\n",
       "      <th>32</th>\n",
       "      <th>33</th>\n",
       "      <th>34</th>\n",
       "      <th>35</th>\n",
       "      <th>36</th>\n",
       "      <th>37</th>\n",
       "      <th>38</th>\n",
       "      <th>39</th>\n",
       "      <th>...</th>\n",
       "      <th>65497</th>\n",
       "      <th>65498</th>\n",
       "      <th>65499</th>\n",
       "      <th>65500</th>\n",
       "      <th>65501</th>\n",
       "      <th>65502</th>\n",
       "      <th>65503</th>\n",
       "      <th>65504</th>\n",
       "      <th>65505</th>\n",
       "      <th>65506</th>\n",
       "      <th>65507</th>\n",
       "      <th>65508</th>\n",
       "      <th>65509</th>\n",
       "      <th>65510</th>\n",
       "      <th>65511</th>\n",
       "      <th>65512</th>\n",
       "      <th>65513</th>\n",
       "      <th>65514</th>\n",
       "      <th>65515</th>\n",
       "      <th>65516</th>\n",
       "      <th>65517</th>\n",
       "      <th>65518</th>\n",
       "      <th>65519</th>\n",
       "      <th>65520</th>\n",
       "      <th>65521</th>\n",
       "      <th>65522</th>\n",
       "      <th>65523</th>\n",
       "      <th>65524</th>\n",
       "      <th>65525</th>\n",
       "      <th>65526</th>\n",
       "      <th>65527</th>\n",
       "      <th>65528</th>\n",
       "      <th>65529</th>\n",
       "      <th>65530</th>\n",
       "      <th>65531</th>\n",
       "      <th>65532</th>\n",
       "      <th>65533</th>\n",
       "      <th>65534</th>\n",
       "      <th>65535</th>\n",
       "      <th>class</th>\n",
       "    </tr>\n",
       "  </thead>\n",
       "  <tbody>\n",
       "    <tr>\n",
       "      <th>1.0</th>\n",
       "      <td>1.0</td>\n",
       "      <td>1.0</td>\n",
       "      <td>1.0</td>\n",
       "      <td>1.0</td>\n",
       "      <td>1.0</td>\n",
       "      <td>1.0</td>\n",
       "      <td>1.0</td>\n",
       "      <td>1.0</td>\n",
       "      <td>1.0</td>\n",
       "      <td>1.0</td>\n",
       "      <td>1.0</td>\n",
       "      <td>1.0</td>\n",
       "      <td>1.0</td>\n",
       "      <td>1.0</td>\n",
       "      <td>1.0</td>\n",
       "      <td>1.0</td>\n",
       "      <td>1.0</td>\n",
       "      <td>1.0</td>\n",
       "      <td>1.0</td>\n",
       "      <td>1.0</td>\n",
       "      <td>1.0</td>\n",
       "      <td>1.0</td>\n",
       "      <td>1.0</td>\n",
       "      <td>1.0</td>\n",
       "      <td>1.0</td>\n",
       "      <td>1.0</td>\n",
       "      <td>1.0</td>\n",
       "      <td>1.0</td>\n",
       "      <td>1.0</td>\n",
       "      <td>1.0</td>\n",
       "      <td>1.0</td>\n",
       "      <td>1.0</td>\n",
       "      <td>1.0</td>\n",
       "      <td>1.0</td>\n",
       "      <td>1.0</td>\n",
       "      <td>1.0</td>\n",
       "      <td>1.0</td>\n",
       "      <td>1.0</td>\n",
       "      <td>1.0</td>\n",
       "      <td>1.0</td>\n",
       "      <td>...</td>\n",
       "      <td>1.0</td>\n",
       "      <td>1.0</td>\n",
       "      <td>1.0</td>\n",
       "      <td>1.0</td>\n",
       "      <td>1.0</td>\n",
       "      <td>1.0</td>\n",
       "      <td>1.0</td>\n",
       "      <td>1.0</td>\n",
       "      <td>1.0</td>\n",
       "      <td>1.0</td>\n",
       "      <td>1.0</td>\n",
       "      <td>1.0</td>\n",
       "      <td>1.0</td>\n",
       "      <td>1.0</td>\n",
       "      <td>1.0</td>\n",
       "      <td>1.0</td>\n",
       "      <td>1.0</td>\n",
       "      <td>1.0</td>\n",
       "      <td>1.0</td>\n",
       "      <td>1.0</td>\n",
       "      <td>1.0</td>\n",
       "      <td>1.0</td>\n",
       "      <td>1.0</td>\n",
       "      <td>1.0</td>\n",
       "      <td>1.0</td>\n",
       "      <td>1.0</td>\n",
       "      <td>1.0</td>\n",
       "      <td>1.0</td>\n",
       "      <td>1.0</td>\n",
       "      <td>1.0</td>\n",
       "      <td>1.0</td>\n",
       "      <td>1.0</td>\n",
       "      <td>1.0</td>\n",
       "      <td>1.0</td>\n",
       "      <td>1.0</td>\n",
       "      <td>1.0</td>\n",
       "      <td>1.0</td>\n",
       "      <td>1.0</td>\n",
       "      <td>1.0</td>\n",
       "      <td>0</td>\n",
       "    </tr>\n",
       "    <tr>\n",
       "      <th>1.0</th>\n",
       "      <td>1.0</td>\n",
       "      <td>1.0</td>\n",
       "      <td>1.0</td>\n",
       "      <td>1.0</td>\n",
       "      <td>1.0</td>\n",
       "      <td>1.0</td>\n",
       "      <td>1.0</td>\n",
       "      <td>1.0</td>\n",
       "      <td>1.0</td>\n",
       "      <td>1.0</td>\n",
       "      <td>1.0</td>\n",
       "      <td>1.0</td>\n",
       "      <td>1.0</td>\n",
       "      <td>1.0</td>\n",
       "      <td>1.0</td>\n",
       "      <td>1.0</td>\n",
       "      <td>1.0</td>\n",
       "      <td>1.0</td>\n",
       "      <td>1.0</td>\n",
       "      <td>1.0</td>\n",
       "      <td>1.0</td>\n",
       "      <td>1.0</td>\n",
       "      <td>1.0</td>\n",
       "      <td>1.0</td>\n",
       "      <td>1.0</td>\n",
       "      <td>1.0</td>\n",
       "      <td>1.0</td>\n",
       "      <td>1.0</td>\n",
       "      <td>1.0</td>\n",
       "      <td>1.0</td>\n",
       "      <td>1.0</td>\n",
       "      <td>1.0</td>\n",
       "      <td>1.0</td>\n",
       "      <td>1.0</td>\n",
       "      <td>1.0</td>\n",
       "      <td>1.0</td>\n",
       "      <td>1.0</td>\n",
       "      <td>1.0</td>\n",
       "      <td>1.0</td>\n",
       "      <td>1.0</td>\n",
       "      <td>...</td>\n",
       "      <td>1.0</td>\n",
       "      <td>1.0</td>\n",
       "      <td>1.0</td>\n",
       "      <td>1.0</td>\n",
       "      <td>1.0</td>\n",
       "      <td>1.0</td>\n",
       "      <td>1.0</td>\n",
       "      <td>1.0</td>\n",
       "      <td>1.0</td>\n",
       "      <td>1.0</td>\n",
       "      <td>1.0</td>\n",
       "      <td>1.0</td>\n",
       "      <td>1.0</td>\n",
       "      <td>1.0</td>\n",
       "      <td>1.0</td>\n",
       "      <td>1.0</td>\n",
       "      <td>1.0</td>\n",
       "      <td>1.0</td>\n",
       "      <td>1.0</td>\n",
       "      <td>1.0</td>\n",
       "      <td>1.0</td>\n",
       "      <td>1.0</td>\n",
       "      <td>1.0</td>\n",
       "      <td>1.0</td>\n",
       "      <td>1.0</td>\n",
       "      <td>1.0</td>\n",
       "      <td>1.0</td>\n",
       "      <td>1.0</td>\n",
       "      <td>1.0</td>\n",
       "      <td>1.0</td>\n",
       "      <td>1.0</td>\n",
       "      <td>1.0</td>\n",
       "      <td>1.0</td>\n",
       "      <td>1.0</td>\n",
       "      <td>1.0</td>\n",
       "      <td>1.0</td>\n",
       "      <td>1.0</td>\n",
       "      <td>1.0</td>\n",
       "      <td>1.0</td>\n",
       "      <td>1</td>\n",
       "    </tr>\n",
       "    <tr>\n",
       "      <th>1.0</th>\n",
       "      <td>1.0</td>\n",
       "      <td>1.0</td>\n",
       "      <td>1.0</td>\n",
       "      <td>1.0</td>\n",
       "      <td>1.0</td>\n",
       "      <td>1.0</td>\n",
       "      <td>1.0</td>\n",
       "      <td>1.0</td>\n",
       "      <td>1.0</td>\n",
       "      <td>1.0</td>\n",
       "      <td>1.0</td>\n",
       "      <td>1.0</td>\n",
       "      <td>1.0</td>\n",
       "      <td>1.0</td>\n",
       "      <td>1.0</td>\n",
       "      <td>1.0</td>\n",
       "      <td>1.0</td>\n",
       "      <td>1.0</td>\n",
       "      <td>1.0</td>\n",
       "      <td>1.0</td>\n",
       "      <td>1.0</td>\n",
       "      <td>1.0</td>\n",
       "      <td>1.0</td>\n",
       "      <td>1.0</td>\n",
       "      <td>1.0</td>\n",
       "      <td>1.0</td>\n",
       "      <td>1.0</td>\n",
       "      <td>1.0</td>\n",
       "      <td>1.0</td>\n",
       "      <td>1.0</td>\n",
       "      <td>1.0</td>\n",
       "      <td>1.0</td>\n",
       "      <td>1.0</td>\n",
       "      <td>1.0</td>\n",
       "      <td>1.0</td>\n",
       "      <td>1.0</td>\n",
       "      <td>1.0</td>\n",
       "      <td>1.0</td>\n",
       "      <td>1.0</td>\n",
       "      <td>1.0</td>\n",
       "      <td>...</td>\n",
       "      <td>1.0</td>\n",
       "      <td>1.0</td>\n",
       "      <td>1.0</td>\n",
       "      <td>1.0</td>\n",
       "      <td>1.0</td>\n",
       "      <td>1.0</td>\n",
       "      <td>1.0</td>\n",
       "      <td>1.0</td>\n",
       "      <td>1.0</td>\n",
       "      <td>1.0</td>\n",
       "      <td>1.0</td>\n",
       "      <td>1.0</td>\n",
       "      <td>1.0</td>\n",
       "      <td>1.0</td>\n",
       "      <td>1.0</td>\n",
       "      <td>1.0</td>\n",
       "      <td>1.0</td>\n",
       "      <td>1.0</td>\n",
       "      <td>1.0</td>\n",
       "      <td>1.0</td>\n",
       "      <td>1.0</td>\n",
       "      <td>1.0</td>\n",
       "      <td>1.0</td>\n",
       "      <td>1.0</td>\n",
       "      <td>1.0</td>\n",
       "      <td>1.0</td>\n",
       "      <td>1.0</td>\n",
       "      <td>1.0</td>\n",
       "      <td>1.0</td>\n",
       "      <td>1.0</td>\n",
       "      <td>1.0</td>\n",
       "      <td>1.0</td>\n",
       "      <td>1.0</td>\n",
       "      <td>1.0</td>\n",
       "      <td>1.0</td>\n",
       "      <td>1.0</td>\n",
       "      <td>1.0</td>\n",
       "      <td>1.0</td>\n",
       "      <td>1.0</td>\n",
       "      <td>0</td>\n",
       "    </tr>\n",
       "  </tbody>\n",
       "</table>\n",
       "<p>3 rows × 65537 columns</p>\n",
       "</div>"
      ],
      "text/plain": [
       "       0    1    2    3    4    5  ...  65531  65532  65533  65534  65535  class\n",
       "1.0  1.0  1.0  1.0  1.0  1.0  1.0  ...    1.0    1.0    1.0    1.0    1.0      0\n",
       "1.0  1.0  1.0  1.0  1.0  1.0  1.0  ...    1.0    1.0    1.0    1.0    1.0      1\n",
       "1.0  1.0  1.0  1.0  1.0  1.0  1.0  ...    1.0    1.0    1.0    1.0    1.0      0\n",
       "\n",
       "[3 rows x 65537 columns]"
      ]
     },
     "execution_count": 20,
     "metadata": {
      "tags": []
     },
     "output_type": "execute_result"
    }
   ],
   "source": [
    "df1.head(3)"
   ]
  },
  {
   "cell_type": "markdown",
   "metadata": {},
   "source": [
    "Splitting data into Train and test."
   ]
  },
  {
   "cell_type": "code",
   "execution_count": 0,
   "metadata": {
    "colab": {},
    "colab_type": "code",
    "id": "2kExwRfOrCny"
   },
   "outputs": [],
   "source": [
    "from sklearn.model_selection import train_test_split\n",
    "X_train,X_test=train_test_split(df1,test_size=0.2,random_state=21)"
   ]
  },
  {
   "cell_type": "markdown",
   "metadata": {},
   "source": [
    "Since we are dealing with anamoly detection, we will only feed 'normal' data into our model. In this case, normal would mean class 0. We do this so that during testing, any abnormal data would be classified as class 1."
   ]
  },
  {
   "cell_type": "code",
   "execution_count": 0,
   "metadata": {
    "colab": {},
    "colab_type": "code",
    "id": "93Q-OPZ5rOIP"
   },
   "outputs": [],
   "source": [
    "X_train=X_train[X_train['class']==0]\n",
    "X_train=X_train.drop('class',axis=1)\n",
    "y_test=X_test['class']\n",
    "X_test=X_test.drop('class',axis=1)\n",
    "\n",
    "X_train=X_train.values\n",
    "X_test=X_test.values"
   ]
  },
  {
   "cell_type": "markdown",
   "metadata": {
    "colab": {
     "base_uri": "https://localhost:8080/",
     "height": 34
    },
    "colab_type": "code",
    "id": "FF3XgtZX2c65",
    "outputId": "fde122d0-5c60-43c1-9c57-8475ec95ba2a"
   },
   "source": [
    "We create y_train which has 0's only."
   ]
  },
  {
   "cell_type": "code",
   "execution_count": 0,
   "metadata": {
    "colab": {},
    "colab_type": "code",
    "id": "Nh8yiRdXrvUI"
   },
   "outputs": [],
   "source": [
    "y_train=np.ones((2165,), dtype=int)\n",
    "y_train[:]=0"
   ]
  },
  {
   "cell_type": "markdown",
   "metadata": {},
   "source": [
    "Training model."
   ]
  },
  {
   "cell_type": "code",
   "execution_count": 115,
   "metadata": {
    "colab": {
     "base_uri": "https://localhost:8080/",
     "height": 370
    },
    "colab_type": "code",
    "id": "SXvYrowRr9HB",
    "outputId": "1176f222-babe-4bb2-e266-266747446c90"
   },
   "outputs": [
    {
     "name": "stdout",
     "output_type": "stream",
     "text": [
      "Train on 1948 samples, validate on 217 samples\n",
      "Epoch 1/10\n",
      "1948/1948 [==============================] - 5s 2ms/step - loss: 1.3177 - val_loss: 0.8299\n",
      "Epoch 2/10\n",
      "1948/1948 [==============================] - 4s 2ms/step - loss: 0.8150 - val_loss: 0.7959\n",
      "Epoch 3/10\n",
      "1948/1948 [==============================] - 4s 2ms/step - loss: 0.7814 - val_loss: 0.7630\n",
      "Epoch 4/10\n",
      "1948/1948 [==============================] - 4s 2ms/step - loss: 0.7490 - val_loss: 0.7312\n",
      "Epoch 5/10\n",
      "1948/1948 [==============================] - 4s 2ms/step - loss: 0.7177 - val_loss: 0.7005\n",
      "Epoch 6/10\n",
      "1948/1948 [==============================] - 4s 2ms/step - loss: 0.6875 - val_loss: 0.6710\n",
      "Epoch 7/10\n",
      "1948/1948 [==============================] - 4s 2ms/step - loss: 0.6585 - val_loss: 0.6426\n",
      "Epoch 8/10\n",
      "1948/1948 [==============================] - 4s 2ms/step - loss: 0.6305 - val_loss: 0.6151\n",
      "Epoch 9/10\n",
      "1948/1948 [==============================] - 4s 2ms/step - loss: 0.6035 - val_loss: 0.5887\n",
      "Epoch 10/10\n",
      "1948/1948 [==============================] - 4s 2ms/step - loss: 0.5774 - val_loss: 0.5631\n"
     ]
    }
   ],
   "source": [
    "def getModel():\n",
    "    inp = Input(shape=(X_train.shape[1],))\n",
    "    d1=Dropout(0.5)(inp)\n",
    "    encoded = Dense(8, activation='relu', activity_regularizer=regularizers.l2(10e-3))(d1)\n",
    "    decoded = Dense(X_train.shape[1], activation='relu')(encoded)\n",
    "    autoencoder = Model(inp, decoded)\n",
    "    autoencoder.compile(optimizer='adam', loss='mean_squared_error')\n",
    "    return autoencoder\n",
    "\n",
    "# Where y0=0 --> Fit only on normal network connections - A kind of one class classifier\n",
    "autoencoder=getModel()\n",
    "history=autoencoder.fit(X_train[np.where(y_train==0)],X_train[np.where(y_train==0)], \n",
    "               epochs=10,\n",
    "                batch_size=100,\n",
    "                shuffle=True,\n",
    "                validation_split=0.1)"
   ]
  },
  {
   "cell_type": "markdown",
   "metadata": {},
   "source": [
    "Testing, evaluating."
   ]
  },
  {
   "cell_type": "code",
   "execution_count": 0,
   "metadata": {
    "colab": {},
    "colab_type": "code",
    "id": "ALOHOMQHsGq7"
   },
   "outputs": [],
   "source": [
    "testing_set_predictions=autoencoder.predict(X_test)\n"
   ]
  },
  {
   "cell_type": "markdown",
   "metadata": {},
   "source": [
    "We can alter threshold with the best possible value for best results. Here threshold corresponds to val_loss of the training phase. "
   ]
  },
  {
   "cell_type": "code",
   "execution_count": 0,
   "metadata": {
    "colab": {},
    "colab_type": "code",
    "id": "m3Wyep_LsmSF"
   },
   "outputs": [],
   "source": [
    "def calculate_losses(x,preds):\n",
    "    losses=np.zeros(len(x))\n",
    "    for i in range(len(x)):\n",
    "        losses[i]=((preds[i] - x[i]) ** 2).mean(axis=None)\n",
    "        \n",
    "    return losses\n",
    "\n",
    "# We set the threshold equal to the training loss of the autoencoder\n",
    "# history.history[\"loss\"][-1] -- > Loss obtained in the last epoch\n",
    "threshold=history.history[\"loss\"][-4]\n",
    "\n",
    "\n",
    "# Make predictions\n",
    "testing_set_predictions=autoencoder.predict(X_test)\n",
    "\n",
    "# Get the test loss\n",
    "test_losses=calculate_losses(X_test,testing_set_predictions)\n",
    "\n",
    "# Compare with the thresshold and assign the label/mark it as attack or normal\n",
    "testing_set_predictions=np.zeros(len(test_losses))\n",
    "testing_set_predictions[np.where(test_losses>threshold)]=1"
   ]
  },
  {
   "cell_type": "markdown",
   "metadata": {},
   "source": [
    "Evaluating the model."
   ]
  },
  {
   "cell_type": "code",
   "execution_count": 126,
   "metadata": {
    "colab": {
     "base_uri": "https://localhost:8080/",
     "height": 118
    },
    "colab_type": "code",
    "id": "XhTsOabtsp-I",
    "outputId": "6fa8db2b-e5a0-4806-9c71-b0569f68123b"
   },
   "outputs": [
    {
     "name": "stdout",
     "output_type": "stream",
     "text": [
      "Performance over the testing data set \n",
      "\n",
      "Accuracy : 0.9380378657487092 , Recall : 0.9380378657487092 , Precision : 0.8799150375783933 , F1 : 0.9080473123144698\n",
      "\n",
      "0  Detection Rate : 0.0\n",
      "1  Detection Rate : 0.0\n"
     ]
    }
   ],
   "source": [
    "classes=[0,1]\n",
    "\n",
    "accuracy=accuracy_score(y_test,testing_set_predictions)\n",
    "recall=recall_score(y_test,testing_set_predictions,average='weighted')\n",
    "precision=precision_score(y_test,testing_set_predictions,average='weighted')\n",
    "f1=f1_score(y_test,testing_set_predictions,average='weighted')\n",
    "print(\"Performance over the testing data set \\n\")\n",
    "print(\"Accuracy : {} , Recall : {} , Precision : {} , F1 : {}\\n\".format(accuracy,recall,precision,f1 ))\n",
    "\n",
    "#\n",
    "for class_ in classes:\n",
    "    print(class_,\" Detection Rate : {}\".format(len(np.where(np.logical_and(testing_set_predictions==1, y_test==class_))[0])/len(np.where(y_test==class_)[0])))"
   ]
  },
  {
   "cell_type": "code",
   "execution_count": 79,
   "metadata": {
    "colab": {
     "base_uri": "https://localhost:8080/",
     "height": 34
    },
    "colab_type": "code",
    "id": "lKqDDcotsvzP",
    "outputId": "dcff5d31-5dc6-404e-c2aa-90897d345c0a"
   },
   "outputs": [
    {
     "data": {
      "text/plain": [
       "(array([], dtype=int64),)"
      ]
     },
     "execution_count": 79,
     "metadata": {
      "tags": []
     },
     "output_type": "execute_result"
    }
   ],
   "source": [
    "np.where(testing_set_predictions==1)"
   ]
  },
  {
   "cell_type": "code",
   "execution_count": 80,
   "metadata": {
    "colab": {
     "base_uri": "https://localhost:8080/",
     "height": 151
    },
    "colab_type": "code",
    "id": "RNPSzjSMs1Mm",
    "outputId": "3ef4d9a3-9ceb-4ea4-fb80-2a9ebb5bcba5"
   },
   "outputs": [
    {
     "data": {
      "text/plain": [
       "(array([  25,   62,   69,   92,  101,  130,  138,  141,  186,  192,  196,\n",
       "         204,  205,  218,  248,  262,  264,  270,  293,  296,  300,  336,\n",
       "         337,  359,  373,  393,  413,  430,  463,  482,  496,  508,  523,\n",
       "         535,  545,  575,  616,  623,  626,  671,  680,  720,  721,  727,\n",
       "         730,  740,  766,  795,  804,  805,  806,  820,  836,  839,  846,\n",
       "         850,  876,  891,  937,  949,  957,  965,  972,  987,  994, 1003,\n",
       "        1020, 1022, 1026, 1030, 1032, 1044, 1053, 1065, 1071, 1079, 1087,\n",
       "        1090, 1095]),)"
      ]
     },
     "execution_count": 80,
     "metadata": {
      "tags": []
     },
     "output_type": "execute_result"
    }
   ],
   "source": [
    "np.where(y_test==1)"
   ]
  },
  {
   "cell_type": "code",
   "execution_count": 68,
   "metadata": {
    "colab": {
     "base_uri": "https://localhost:8080/",
     "height": 34
    },
    "colab_type": "code",
    "id": "3a_WEeiV5Zcl",
    "outputId": "fdaee822-125f-43a6-b88b-7ca5d9d45b21"
   },
   "outputs": [
    {
     "data": {
      "text/plain": [
       "-0.037546831972145846"
      ]
     },
     "execution_count": 68,
     "metadata": {
      "tags": []
     },
     "output_type": "execute_result"
    }
   ],
   "source": [
    "from sklearn.metrics import matthews_corrcoef\n",
    "matthews_corrcoef(y_test,testing_set_predictions)"
   ]
  }
 ],
 "metadata": {
  "colab": {
   "collapsed_sections": [],
   "name": "Untitled0.ipynb",
   "provenance": [],
   "version": "0.3.2"
  },
  "kernelspec": {
   "display_name": "Python 3",
   "language": "python",
   "name": "python3"
  },
  "language_info": {
   "codemirror_mode": {
    "name": "ipython",
    "version": 3
   },
   "file_extension": ".py",
   "mimetype": "text/x-python",
   "name": "python",
   "nbconvert_exporter": "python",
   "pygments_lexer": "ipython3",
   "version": "3.6.5"
  }
 },
 "nbformat": 4,
 "nbformat_minor": 1
}
