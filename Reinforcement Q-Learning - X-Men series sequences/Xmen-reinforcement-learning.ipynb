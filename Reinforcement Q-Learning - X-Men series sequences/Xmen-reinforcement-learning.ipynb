{
 "cells": [
  {
   "cell_type": "markdown",
   "metadata": {},
   "source": [
    "# What sequence to watch? X-Men edition.\n",
    "\n",
    "#https://www.denofgeek.com/uk/movies/x-men-movies/48242/x-men-best-order-to-watch-the-movies-in \n",
    "\n",
    "* has released various lists on how to watch X-Men Movies. Since these movies jump time lines, various people prefer different viewing approach.\n",
    "* But what if ***someone only wants to know the sequence IN-BEWEEN? or after certain movies watched already?***\n",
    "\n",
    "Q-Learning provides random yet correct sequences to the user based on his ***start*** and ***end*** movie specification. "
   ]
  },
  {
   "cell_type": "code",
   "execution_count": 1,
   "metadata": {},
   "outputs": [],
   "source": [
    "import numpy as np"
   ]
  },
  {
   "cell_type": "markdown",
   "metadata": {},
   "source": [
    "* According to ***Den of Geek*** There are 8 possible ways one can watch the series.\n",
    "* They are (according to how I have placed them in the single list below):\n",
    "<ol>\n",
    "    <li> In production order </li>\n",
    "    <li> Without Deadpool series (My addition for more data) </li>\n",
    "    <li> In chronological order </li>\n",
    "    <li> Days of Future past future setting </li>\n",
    "    <li> Internal Chronology </li>\n",
    "    <li> New Timeline </li>\n",
    "    <li> Wolverine's Story </li>\n",
    "    <li> Charles Xavier's Story </li>\n",
    "    <li> \"The happy ending\" viewing order </li>\n",
    "    \n",
    "<ol>\n",
    "<p> Data format </p>\n",
    "    <li> evert sequence has to be a single long string separated by commas </li>\n",
    "    <li> These strings make up the list. </li>"
   ]
  },
  {
   "cell_type": "code",
   "execution_count": 222,
   "metadata": {},
   "outputs": [],
   "source": [
    "x_men_order = ['xmen,xmen2,xmen_last_stand,xmen_origins_wolverine,xmen_first_class,the_wolverine,x_men_days_of_future_past,deadpool,x_men_apocalypse,logan,deadpool2,xmen_dark_pheonix',\n",
    "              'xmen,xmen2,xmen_last_stand,xmen_origins_wolverine,xmen_first_class,the_wolverine,x_men_days_of_future_past,x_men_apocalypse,logan,xmen_dark_pheonix',\n",
    "              'xmen_first_class,x_men_days_of_future_past,xmen_origins_wolverine,x_men_apocalypse,xmen_dark_pheonix,xmen,xmen2,xmen_last_stand,the_wolverine,deadpool,deadpool2',\n",
    "              'xmen_first_class,xmen_origins_wolverine,x_men_apocalypse,xmen_dark_pheonix,xmen,xmen2,xmen_last_stand,the_wolverine,deadpool,deadpool2,x_men_days_of_future_past,logan',\n",
    "              'xmen_first_class,xmen_origins_wolverine,xmen,xmen2,xmen_last_stand,the_wolverine,x_men_days_of_future_past',\n",
    "              'xmen_first_class,x_men_days_of_future_past,x_men_apocalypse,xmen_dark_pheonix,deadpool,deadpool2,logan',\n",
    "              'xmen_origins_wolverine,xmen_first_class,x_men_apocalypse,xmen,xmen2,xmen_last_stand,the_wolverine,deadpool,x_men_days_of_future_past,logan',\n",
    "              'xmen_first_class,x_men_days_of_future_past,xmen_origins_wolverine,x_men_apocalypse,xmen_dark_pheonix,xmen,xmen2,xmen_last_stand,the_wolverine,deadpool,logan',\n",
    "              'xmen_first_class,xmen_origins_wolverine,x_men_days_of_future_past,x_men_apocalypse,xmen_dark_pheonix,xmen,xmen2,xmen_last_stand,the_wolverine,logan,deadpool,deadpool2']"
   ]
  },
  {
   "cell_type": "markdown",
   "metadata": {},
   "source": [
    "Lets tokenize our movies into numbers. \n",
    "* Location_to_state has word->token mapping.\n",
    "* State_to_location has token->word mapping."
   ]
  },
  {
   "cell_type": "code",
   "execution_count": 223,
   "metadata": {},
   "outputs": [],
   "source": [
    "def data_dicts(X_):\n",
    "    word_to_ix={}\n",
    "    ix_to_word={}\n",
    "    x=0\n",
    "    for partial_quesries in X_:\n",
    "        partial_quesries = partial_quesries.split(\",\")\n",
    "        for word in partial_quesries:\n",
    "            if word not in word_to_ix.keys():\n",
    "                word_to_ix[word]=x\n",
    "                ix_to_word[x]=word\n",
    "                x+=1\n",
    "    return (word_to_ix,ix_to_word)\n",
    "location_to_state,state_to_location=data_dicts(x_men_order)    \n",
    "# location_to_state1,state_to_location1=data_dicts(sequence_list)"
   ]
  },
  {
   "cell_type": "markdown",
   "metadata": {},
   "source": [
    "Lets have a tokenized version of our main list."
   ]
  },
  {
   "cell_type": "code",
   "execution_count": 224,
   "metadata": {},
   "outputs": [],
   "source": [
    "def list_to_num_seq(x, loc_to_state):\n",
    "    token_seq = []\n",
    "    for i in x:\n",
    "        i = i.split(\",\")\n",
    "        token_intermediate = []\n",
    "        for j in i:\n",
    "            token_intermediate.append(loc_to_state[j])\n",
    "        token_seq.append(token_intermediate)\n",
    "    return token_seq"
   ]
  },
  {
   "cell_type": "code",
   "execution_count": 225,
   "metadata": {},
   "outputs": [],
   "source": [
    "path_array = np.array(list_to_num_seq(x_men_order, location_to_state))"
   ]
  },
  {
   "cell_type": "code",
   "execution_count": 226,
   "metadata": {},
   "outputs": [
    {
     "data": {
      "text/plain": [
       "array([list([0, 1, 2, 3, 4, 5, 6, 7, 8, 9, 10, 11]),\n",
       "       list([0, 1, 2, 3, 4, 5, 6, 8, 9, 11]),\n",
       "       list([4, 6, 3, 8, 11, 0, 1, 2, 5, 7, 10]),\n",
       "       list([4, 3, 8, 11, 0, 1, 2, 5, 7, 10, 6, 9]),\n",
       "       list([4, 3, 0, 1, 2, 5, 6]), list([4, 6, 8, 11, 7, 10, 9]),\n",
       "       list([3, 4, 8, 0, 1, 2, 5, 7, 6, 9]),\n",
       "       list([4, 6, 3, 8, 11, 0, 1, 2, 5, 7, 9]),\n",
       "       list([4, 3, 6, 8, 11, 0, 1, 2, 5, 9, 7, 10])], dtype=object)"
      ]
     },
     "execution_count": 226,
     "metadata": {},
     "output_type": "execute_result"
    }
   ],
   "source": [
    "path_array"
   ]
  },
  {
   "cell_type": "markdown",
   "metadata": {},
   "source": [
    "Lets have a discount factor and learning rate for our Q-Learning model.\n",
    "\n",
    "*Alpha is the learning rate. If the reward or transition function is stochastic (random), then alpha should change over time, approaching zero at infinity. This has to do with approximating the expected outcome of a inner product (T(transition)*R(reward)), when one of the two, or both, have random behavior.\n",
    "\n",
    "*Gamma is the value of future reward. It can affect learning quite a bit, and can be a dynamic or static value. If it is equal to one, the agent values future reward JUST AS MUCH as current reward. This means, in ten actions, if an agent does something good this is JUST AS VALUABLE as doing this action directly. So learning doesn't work at that well at high gamma values.\n",
    "\n",
    "*Explanation above thanks to: https://stackoverflow.com/a/18543274/12752884"
   ]
  },
  {
   "cell_type": "code",
   "execution_count": 227,
   "metadata": {},
   "outputs": [],
   "source": [
    "gamma = 0.75 # Discount factor \n",
    "alpha = 0.9 # Learning rate"
   ]
  },
  {
   "cell_type": "markdown",
   "metadata": {},
   "source": [
    "We would need a rewards matrix. Hardcoding is a pain, lets write a function!"
   ]
  },
  {
   "cell_type": "code",
   "execution_count": 228,
   "metadata": {},
   "outputs": [],
   "source": [
    "def gen_reward_matrix(a_array,max_elem):\n",
    "    t= np.zeros((max_elem+3,max_elem+3))\n",
    "    di = dict()\n",
    "    for i in range(0,len(a_array)-1):\n",
    "        if a_array[i] in di.keys():\n",
    "            di[a_array[i]].append(a_array[i+1])\n",
    "        else:\n",
    "            di[a_array[i]] = a_array[i+1]\n",
    "    if a_array[-1] not in di:\n",
    "        di[a_array[-1]]=a_array[-1]+1\n",
    "    else:\n",
    "        di[a_array[-1]].append(a_array[-2])\n",
    "    \n",
    "    for i in range(max_elem+3):\n",
    "        if i in di.keys():\n",
    "            ls = di[i] \n",
    "            t[i][di[i]]=1\n",
    "    return t"
   ]
  },
  {
   "cell_type": "markdown",
   "metadata": {},
   "source": [
    "* Our model is a granular level model, meaning it does not create reward matrix for the entire corpus, but only one sequence at a time. \n",
    "* We randomly pick a sequence which has both the start and the end nodes. \n",
    "* Yes, this will not make sense if the the start and end nodes are the very start and end nodes of a sequence, but what if the start node or the end node lies between? That is, what if a user wants to watch from a certain movie, not necessarily the beginning of any order?"
   ]
  },
  {
   "cell_type": "code",
   "execution_count": 229,
   "metadata": {},
   "outputs": [],
   "source": [
    "def obtain_sequence_pattern(a_arr,start_location,end_location,location_to_state):\n",
    "    for i in a_arr:\n",
    "        if (location_to_state[start_location] in i) and (location_to_state[end_location] in i):\n",
    "            if i.index(location_to_state[start_location])<i.index(location_to_state[end_location]):\n",
    "                a = i\n",
    "                break\n",
    "    return a\n",
    "    "
   ]
  },
  {
   "cell_type": "markdown",
   "metadata": {},
   "source": [
    "The main Q-Learning function ***gen_sequence*** returns us the main sequence as it utilizes both the ***gen_reward_matrix*** and the ***obtain_sequence_pattern*** functions. "
   ]
  },
  {
   "cell_type": "code",
   "execution_count": 230,
   "metadata": {},
   "outputs": [],
   "source": [
    "import random\n",
    "def gen_sequence(start_location,end_location,location_to_state,state_to_location, a_arr):\n",
    "    a_arr = sorted(a_arr, key=lambda k: random.random())\n",
    "    a_array = obtain_sequence_pattern(a_arr,start_location,end_location,location_to_state)\n",
    "    max_elem = max(a_array)\n",
    "    rewards = gen_reward_matrix(a_array,max(a_array))\n",
    "    rewards_new = np.copy(rewards)\n",
    "    ending_state = location_to_state[end_location]\n",
    "    rewards_new[ending_state,ending_state] = 999\n",
    "    Q = np.array(np.zeros([max_elem+1,max_elem+1]))\n",
    "\n",
    "    for i in range(1000):\n",
    "        current_state = np.random.randint(0,max_elem+1) # Python excludes the upper bound\n",
    "        playable_actions = []\n",
    "        for j in range(max_elem+1):\n",
    "            if rewards_new[current_state,j] > 0:\n",
    "                playable_actions.append(j)\n",
    "        if playable_actions:\n",
    "            next_state = np.random.choice(playable_actions)\n",
    "            TD = rewards_new[current_state,next_state] + gamma * Q[next_state, np.argmax(Q[next_state,])] - Q[current_state,next_state]\n",
    "            Q[current_state,next_state] += alpha * TD\n",
    "  \n",
    "    route = [start_location]\n",
    "    \n",
    "    next_location = start_location\n",
    "    \n",
    "    while(next_location != end_location):\n",
    "        starting_state = location_to_state[start_location]    \n",
    "        \n",
    "        next_state = np.argmax(Q[starting_state,])\n",
    "    \n",
    "        next_location = state_to_location[next_state]\n",
    "        route.append(next_location)\n",
    "        start_location = next_location\n",
    "    return route"
   ]
  },
  {
   "cell_type": "markdown",
   "metadata": {},
   "source": [
    "Lets check, what if we want to start from the movie ***x-men*** and watch until ***x-men dark pheonix***?  "
   ]
  },
  {
   "cell_type": "code",
   "execution_count": 231,
   "metadata": {},
   "outputs": [
    {
     "data": {
      "text/plain": [
       "['xmen',\n",
       " 'xmen2',\n",
       " 'xmen_last_stand',\n",
       " 'xmen_origins_wolverine',\n",
       " 'xmen_first_class',\n",
       " 'the_wolverine',\n",
       " 'x_men_days_of_future_past',\n",
       " 'x_men_apocalypse',\n",
       " 'logan',\n",
       " 'xmen_dark_pheonix']"
      ]
     },
     "execution_count": 231,
     "metadata": {},
     "output_type": "execute_result"
    }
   ],
   "source": [
    "\n",
    "gen_sequence('xmen','xmen_dark_pheonix',location_to_state,state_to_location,path_array)"
   ]
  },
  {
   "cell_type": "markdown",
   "metadata": {},
   "source": [
    "Lets generate all the ***valid*** possible sequences one can watch if the required start point is ***X-Men First Class*** and end point is ***Logan***?"
   ]
  },
  {
   "cell_type": "code",
   "execution_count": 232,
   "metadata": {},
   "outputs": [
    {
     "data": {
      "text/plain": [
       "[['xmen_first_class',\n",
       "  'x_men_days_of_future_past',\n",
       "  'xmen_origins_wolverine',\n",
       "  'x_men_apocalypse',\n",
       "  'xmen_dark_pheonix',\n",
       "  'xmen',\n",
       "  'xmen2',\n",
       "  'xmen_last_stand',\n",
       "  'the_wolverine',\n",
       "  'deadpool',\n",
       "  'logan'],\n",
       " ['xmen_first_class',\n",
       "  'xmen_origins_wolverine',\n",
       "  'x_men_days_of_future_past',\n",
       "  'x_men_apocalypse',\n",
       "  'xmen_dark_pheonix',\n",
       "  'xmen',\n",
       "  'xmen2',\n",
       "  'xmen_last_stand',\n",
       "  'the_wolverine',\n",
       "  'logan'],\n",
       " ['xmen_first_class',\n",
       "  'the_wolverine',\n",
       "  'x_men_days_of_future_past',\n",
       "  'deadpool',\n",
       "  'x_men_apocalypse',\n",
       "  'logan'],\n",
       " ['xmen_first_class',\n",
       "  'x_men_days_of_future_past',\n",
       "  'x_men_apocalypse',\n",
       "  'xmen_dark_pheonix',\n",
       "  'deadpool',\n",
       "  'deadpool2',\n",
       "  'logan'],\n",
       " ['xmen_first_class',\n",
       "  'x_men_apocalypse',\n",
       "  'xmen',\n",
       "  'xmen2',\n",
       "  'xmen_last_stand',\n",
       "  'the_wolverine',\n",
       "  'deadpool',\n",
       "  'x_men_days_of_future_past',\n",
       "  'logan']]"
      ]
     },
     "execution_count": 232,
     "metadata": {},
     "output_type": "execute_result"
    }
   ],
   "source": [
    "result_lst = []\n",
    "for i in range(10):\n",
    "    result_lst.append(gen_sequence('xmen_first_class','logan',location_to_state,state_to_location,path_array))\n",
    "    \n",
    "# print(result_lst)\n",
    "seq = [list(item) for item in set(tuple(row) for row in result_lst)]\n",
    "seq"
   ]
  },
  {
   "cell_type": "code",
   "execution_count": 237,
   "metadata": {},
   "outputs": [
    {
     "data": {
      "text/plain": [
       "{0: 'xmen',\n",
       " 1: 'xmen2',\n",
       " 2: 'xmen_last_stand',\n",
       " 3: 'xmen_origins_wolverine',\n",
       " 4: 'xmen_first_class',\n",
       " 5: 'the_wolverine',\n",
       " 6: 'x_men_days_of_future_past',\n",
       " 7: 'deadpool',\n",
       " 8: 'x_men_apocalypse',\n",
       " 9: 'logan',\n",
       " 10: 'deadpool2',\n",
       " 11: 'xmen_dark_pheonix'}"
      ]
     },
     "execution_count": 237,
     "metadata": {},
     "output_type": "execute_result"
    }
   ],
   "source": [
    "state_to_location"
   ]
  },
  {
   "cell_type": "markdown",
   "metadata": {},
   "source": [
    "Lets randomly create a start point and end point to see some of the sequences. (May not always work if the main list doesn't have both the start and end points in any of the sublists.\n",
    "\n",
    "* One can choose to watch Deadpool and Deadpool 2 together ***or*** Deadpool -> X-Men Apocalypse -> Logan -> Deadpool 2."
   ]
  },
  {
   "cell_type": "code",
   "execution_count": 347,
   "metadata": {},
   "outputs": [
    {
     "name": "stdout",
     "output_type": "stream",
     "text": [
      "random_seeds: 7 10\n",
      "start movie: deadpool \n",
      "end movie: deadpool2\n"
     ]
    },
    {
     "data": {
      "text/plain": [
       "[['deadpool', 'deadpool2'],\n",
       " ['deadpool', 'x_men_apocalypse', 'logan', 'deadpool2']]"
      ]
     },
     "execution_count": 347,
     "metadata": {},
     "output_type": "execute_result"
    }
   ],
   "source": [
    "random_start = np.random.randint(0, 11)\n",
    "if random_start!=11:\n",
    "    random_end = np.random.randint(random_start+1, 11)\n",
    "else:\n",
    "    random_start = np.random.randint(0, 11)\n",
    "    random_end = np.random.randint(random_start+1, 11)\n",
    "print(\"random_seeds:\", random_start, random_end)\n",
    "print(\"start movie:\", state_to_location[random_start],\"\\nend movie:\",state_to_location[random_end])\n",
    "\n",
    "result_lst = []\n",
    "for i in range(10):\n",
    "    result_lst.append(gen_sequence(state_to_location[random_start],state_to_location[random_end],location_to_state,state_to_location,path_array))\n",
    "    \n",
    "# print(result_lst)\n",
    "seq = [list(item) for item in set(tuple(row) for row in result_lst)]\n",
    "seq"
   ]
  },
  {
   "cell_type": "markdown",
   "metadata": {},
   "source": [
    "To end this, lets generate all the possible sequences."
   ]
  },
  {
   "cell_type": "code",
   "execution_count": 211,
   "metadata": {},
   "outputs": [],
   "source": [
    "def get_unique_seq(alist):\n",
    "    x = []\n",
    "    for i in alist:\n",
    "        i = i.split(\",\")\n",
    "        x.append([i[0],i[-1]])\n",
    "    x = [list(item) for item in set(tuple(row) for row in x)]\n",
    "    return x"
   ]
  },
  {
   "cell_type": "code",
   "execution_count": 212,
   "metadata": {},
   "outputs": [],
   "source": [
    "def obtain_all_sequences():    \n",
    "    uniq = get_unique_seq(x_men_order)\n",
    "    seq_i = []\n",
    "    for i in uniq:\n",
    "        print(i)\n",
    "        result_lst = []\n",
    "        for j in range(50):\n",
    "            result_lst.append(gen_sequence(i[0],i[-1],location_to_state,state_to_location,path_array))\n",
    "        only_unique = [list(item) for item in set(tuple(row) for row in result_lst)]\n",
    "        seq_i.append(only_unique)\n",
    "    return seq_i"
   ]
  },
  {
   "cell_type": "code",
   "execution_count": 213,
   "metadata": {},
   "outputs": [
    {
     "name": "stdout",
     "output_type": "stream",
     "text": [
      "['xmen_first_class', 'logan']\n",
      "['xmen_first_class', 'deadpool2']\n",
      "['xmen_first_class', 'x_men_days_of_future_past']\n",
      "['xmen', 'xmen_dark_pheonix']\n",
      "['xmen_origins_wolverine', 'logan']\n"
     ]
    }
   ],
   "source": [
    "seq_i = obtain_all_sequences()"
   ]
  },
  {
   "cell_type": "markdown",
   "metadata": {},
   "source": [
    "All the possible sequences generated using our model. (Only for the purpose of testing)."
   ]
  },
  {
   "cell_type": "code",
   "execution_count": 215,
   "metadata": {},
   "outputs": [
    {
     "data": {
      "text/plain": [
       "[[['xmen_first_class',\n",
       "   'xmen_origins_wolverine',\n",
       "   'x_men_apocalypse',\n",
       "   'xmen_dark_pheonix',\n",
       "   'xmen',\n",
       "   'xmen2',\n",
       "   'xmen_last_stand',\n",
       "   'the_wolverine',\n",
       "   'deadpool',\n",
       "   'deadpool2',\n",
       "   'x_men_days_of_future_past',\n",
       "   'logan'],\n",
       "  ['xmen_first_class',\n",
       "   'x_men_days_of_future_past',\n",
       "   'xmen_origins_wolverine',\n",
       "   'x_men_apocalypse',\n",
       "   'xmen_dark_pheonix',\n",
       "   'xmen',\n",
       "   'xmen2',\n",
       "   'xmen_last_stand',\n",
       "   'the_wolverine',\n",
       "   'deadpool',\n",
       "   'logan'],\n",
       "  ['xmen_first_class',\n",
       "   'xmen_origins_wolverine',\n",
       "   'x_men_days_of_future_past',\n",
       "   'x_men_apocalypse',\n",
       "   'xmen_dark_pheonix',\n",
       "   'xmen',\n",
       "   'xmen2',\n",
       "   'xmen_last_stand',\n",
       "   'the_wolverine',\n",
       "   'logan'],\n",
       "  ['xmen_first_class',\n",
       "   'x_men_days_of_future_past',\n",
       "   'x_men_apocalypse',\n",
       "   'xmen_dark_pheonix',\n",
       "   'deadpool',\n",
       "   'deadpool2',\n",
       "   'logan'],\n",
       "  ['xmen_first_class',\n",
       "   'x_men_apocalypse',\n",
       "   'xmen',\n",
       "   'xmen2',\n",
       "   'xmen_last_stand',\n",
       "   'the_wolverine',\n",
       "   'deadpool',\n",
       "   'x_men_days_of_future_past',\n",
       "   'logan']],\n",
       " [['xmen_first_class',\n",
       "   'xmen_origins_wolverine',\n",
       "   'x_men_days_of_future_past',\n",
       "   'x_men_apocalypse',\n",
       "   'xmen_dark_pheonix',\n",
       "   'xmen',\n",
       "   'xmen2',\n",
       "   'xmen_last_stand',\n",
       "   'the_wolverine',\n",
       "   'logan',\n",
       "   'deadpool',\n",
       "   'deadpool2'],\n",
       "  ['xmen_first_class',\n",
       "   'xmen_origins_wolverine',\n",
       "   'x_men_apocalypse',\n",
       "   'xmen_dark_pheonix',\n",
       "   'xmen',\n",
       "   'xmen2',\n",
       "   'xmen_last_stand',\n",
       "   'the_wolverine',\n",
       "   'deadpool',\n",
       "   'deadpool2'],\n",
       "  ['xmen_first_class',\n",
       "   'x_men_days_of_future_past',\n",
       "   'x_men_apocalypse',\n",
       "   'xmen_dark_pheonix',\n",
       "   'deadpool',\n",
       "   'deadpool2'],\n",
       "  ['xmen_first_class',\n",
       "   'x_men_days_of_future_past',\n",
       "   'xmen_origins_wolverine',\n",
       "   'x_men_apocalypse',\n",
       "   'xmen_dark_pheonix',\n",
       "   'xmen',\n",
       "   'xmen2',\n",
       "   'xmen_last_stand',\n",
       "   'the_wolverine',\n",
       "   'deadpool',\n",
       "   'deadpool2']],\n",
       " [['xmen_first_class', 'xmen_origins_wolverine', 'x_men_days_of_future_past'],\n",
       "  ['xmen_first_class', 'x_men_days_of_future_past'],\n",
       "  ['xmen_first_class',\n",
       "   'xmen_origins_wolverine',\n",
       "   'xmen',\n",
       "   'xmen2',\n",
       "   'xmen_last_stand',\n",
       "   'the_wolverine',\n",
       "   'x_men_days_of_future_past'],\n",
       "  ['xmen_first_class',\n",
       "   'x_men_apocalypse',\n",
       "   'xmen',\n",
       "   'xmen2',\n",
       "   'xmen_last_stand',\n",
       "   'the_wolverine',\n",
       "   'deadpool',\n",
       "   'x_men_days_of_future_past'],\n",
       "  ['xmen_first_class',\n",
       "   'xmen_origins_wolverine',\n",
       "   'x_men_apocalypse',\n",
       "   'xmen_dark_pheonix',\n",
       "   'xmen',\n",
       "   'xmen2',\n",
       "   'xmen_last_stand',\n",
       "   'the_wolverine',\n",
       "   'deadpool',\n",
       "   'deadpool2',\n",
       "   'x_men_days_of_future_past'],\n",
       "  ['xmen_first_class', 'the_wolverine', 'x_men_days_of_future_past']],\n",
       " [['xmen',\n",
       "   ' xmen2',\n",
       "   ' xmen_last_stand',\n",
       "   ' xmen_origins_wolverine',\n",
       "   'xmen_first_class',\n",
       "   'the_wolverine',\n",
       "   'x_men_days_of_future_past',\n",
       "   ' deadpool',\n",
       "   ' x_men_apocalypse',\n",
       "   ' logan',\n",
       "   ' deadpool2',\n",
       "   'xmen_dark_pheonix'],\n",
       "  ['xmen',\n",
       "   ' xmen2',\n",
       "   ' xmen_last_stand',\n",
       "   ' xmen_origins_wolverine',\n",
       "   'xmen_first_class',\n",
       "   'the_wolverine',\n",
       "   'x_men_days_of_future_past',\n",
       "   ' x_men_apocalypse',\n",
       "   ' logan',\n",
       "   'xmen_dark_pheonix']],\n",
       " [['xmen_origins_wolverine',\n",
       "   'x_men_apocalypse',\n",
       "   'xmen_dark_pheonix',\n",
       "   'xmen',\n",
       "   'xmen2',\n",
       "   'xmen_last_stand',\n",
       "   'the_wolverine',\n",
       "   'deadpool',\n",
       "   'deadpool2',\n",
       "   'x_men_days_of_future_past',\n",
       "   'logan'],\n",
       "  ['xmen_origins_wolverine',\n",
       "   'x_men_apocalypse',\n",
       "   'xmen_dark_pheonix',\n",
       "   'xmen',\n",
       "   'xmen2',\n",
       "   'xmen_last_stand',\n",
       "   'the_wolverine',\n",
       "   'deadpool',\n",
       "   'logan'],\n",
       "  ['xmen_origins_wolverine',\n",
       "   'x_men_days_of_future_past',\n",
       "   'x_men_apocalypse',\n",
       "   'xmen_dark_pheonix',\n",
       "   'xmen',\n",
       "   'xmen2',\n",
       "   'xmen_last_stand',\n",
       "   'the_wolverine',\n",
       "   'logan'],\n",
       "  ['xmen_origins_wolverine',\n",
       "   'xmen_first_class',\n",
       "   'x_men_apocalypse',\n",
       "   'xmen',\n",
       "   'xmen2',\n",
       "   'xmen_last_stand',\n",
       "   'the_wolverine',\n",
       "   'deadpool',\n",
       "   'x_men_days_of_future_past',\n",
       "   'logan']]]"
      ]
     },
     "execution_count": 215,
     "metadata": {},
     "output_type": "execute_result"
    }
   ],
   "source": [
    "seq_i"
   ]
  }
 ],
 "metadata": {
  "kernelspec": {
   "display_name": "Python 3",
   "language": "python",
   "name": "python3"
  },
  "language_info": {
   "codemirror_mode": {
    "name": "ipython",
    "version": 3
   },
   "file_extension": ".py",
   "mimetype": "text/x-python",
   "name": "python",
   "nbconvert_exporter": "python",
   "pygments_lexer": "ipython3",
   "version": "3.7.4"
  }
 },
 "nbformat": 4,
 "nbformat_minor": 2
}
