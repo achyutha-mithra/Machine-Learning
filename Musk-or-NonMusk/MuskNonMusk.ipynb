{
 "cells": [
  {
   "cell_type": "markdown",
   "metadata": {
    "colab": {
     "base_uri": "https://localhost:8080/",
     "height": 79
    },
    "colab_type": "code",
    "id": "ZOw1CpADl1WI",
    "outputId": "bc94ae90-ee87-4305-a69e-2bec10532761"
   },
   "source": [
    "Load dataset."
   ]
  },
  {
   "cell_type": "code",
   "execution_count": 0,
   "metadata": {
    "colab": {},
    "colab_type": "code",
    "id": "mxmi4Z7v0KrI"
   },
   "outputs": [],
   "source": [
    "\n",
    "import pandas as pd\n",
    "import numpy as np\n",
    "\n",
    "data = pd.read_csv('gdrive/My Drive/musk_csv.csv')\n"
   ]
  },
  {
   "cell_type": "markdown",
   "metadata": {},
   "source": [
    "A look at the dataset."
   ]
  },
  {
   "cell_type": "code",
   "execution_count": 5,
   "metadata": {
    "colab": {
     "base_uri": "https://localhost:8080/",
     "height": 185
    },
    "colab_type": "code",
    "id": "4ALYRjR_l68a",
    "outputId": "721adb75-28c7-44e0-8cc3-3e1055ec0bd9"
   },
   "outputs": [
    {
     "data": {
      "text/html": [
       "<div>\n",
       "<style scoped>\n",
       "    .dataframe tbody tr th:only-of-type {\n",
       "        vertical-align: middle;\n",
       "    }\n",
       "\n",
       "    .dataframe tbody tr th {\n",
       "        vertical-align: top;\n",
       "    }\n",
       "\n",
       "    .dataframe thead th {\n",
       "        text-align: right;\n",
       "    }\n",
       "</style>\n",
       "<table border=\"1\" class=\"dataframe\">\n",
       "  <thead>\n",
       "    <tr style=\"text-align: right;\">\n",
       "      <th></th>\n",
       "      <th>ID</th>\n",
       "      <th>molecule_name</th>\n",
       "      <th>conformation_name</th>\n",
       "      <th>f1</th>\n",
       "      <th>f2</th>\n",
       "      <th>f3</th>\n",
       "      <th>f4</th>\n",
       "      <th>f5</th>\n",
       "      <th>f6</th>\n",
       "      <th>f7</th>\n",
       "      <th>f8</th>\n",
       "      <th>f9</th>\n",
       "      <th>f10</th>\n",
       "      <th>f11</th>\n",
       "      <th>f12</th>\n",
       "      <th>f13</th>\n",
       "      <th>f14</th>\n",
       "      <th>f15</th>\n",
       "      <th>f16</th>\n",
       "      <th>f17</th>\n",
       "      <th>f18</th>\n",
       "      <th>f19</th>\n",
       "      <th>f20</th>\n",
       "      <th>f21</th>\n",
       "      <th>f22</th>\n",
       "      <th>f23</th>\n",
       "      <th>f24</th>\n",
       "      <th>f25</th>\n",
       "      <th>f26</th>\n",
       "      <th>f27</th>\n",
       "      <th>f28</th>\n",
       "      <th>f29</th>\n",
       "      <th>f30</th>\n",
       "      <th>f31</th>\n",
       "      <th>f32</th>\n",
       "      <th>f33</th>\n",
       "      <th>f34</th>\n",
       "      <th>f35</th>\n",
       "      <th>f36</th>\n",
       "      <th>f37</th>\n",
       "      <th>...</th>\n",
       "      <th>f128</th>\n",
       "      <th>f129</th>\n",
       "      <th>f130</th>\n",
       "      <th>f131</th>\n",
       "      <th>f132</th>\n",
       "      <th>f133</th>\n",
       "      <th>f134</th>\n",
       "      <th>f135</th>\n",
       "      <th>f136</th>\n",
       "      <th>f137</th>\n",
       "      <th>f138</th>\n",
       "      <th>f139</th>\n",
       "      <th>f140</th>\n",
       "      <th>f141</th>\n",
       "      <th>f142</th>\n",
       "      <th>f143</th>\n",
       "      <th>f144</th>\n",
       "      <th>f145</th>\n",
       "      <th>f146</th>\n",
       "      <th>f147</th>\n",
       "      <th>f148</th>\n",
       "      <th>f149</th>\n",
       "      <th>f150</th>\n",
       "      <th>f151</th>\n",
       "      <th>f152</th>\n",
       "      <th>f153</th>\n",
       "      <th>f154</th>\n",
       "      <th>f155</th>\n",
       "      <th>f156</th>\n",
       "      <th>f157</th>\n",
       "      <th>f158</th>\n",
       "      <th>f159</th>\n",
       "      <th>f160</th>\n",
       "      <th>f161</th>\n",
       "      <th>f162</th>\n",
       "      <th>f163</th>\n",
       "      <th>f164</th>\n",
       "      <th>f165</th>\n",
       "      <th>f166</th>\n",
       "      <th>class</th>\n",
       "    </tr>\n",
       "  </thead>\n",
       "  <tbody>\n",
       "    <tr>\n",
       "      <th>0</th>\n",
       "      <td>1</td>\n",
       "      <td>MUSK-211</td>\n",
       "      <td>211_1+1</td>\n",
       "      <td>46</td>\n",
       "      <td>-108</td>\n",
       "      <td>-60</td>\n",
       "      <td>-69</td>\n",
       "      <td>-117</td>\n",
       "      <td>49</td>\n",
       "      <td>38</td>\n",
       "      <td>-161</td>\n",
       "      <td>-8</td>\n",
       "      <td>5</td>\n",
       "      <td>-323</td>\n",
       "      <td>-220</td>\n",
       "      <td>-113</td>\n",
       "      <td>-299</td>\n",
       "      <td>-283</td>\n",
       "      <td>-307</td>\n",
       "      <td>-31</td>\n",
       "      <td>-106</td>\n",
       "      <td>-227</td>\n",
       "      <td>-42</td>\n",
       "      <td>-59</td>\n",
       "      <td>-22</td>\n",
       "      <td>-67</td>\n",
       "      <td>189</td>\n",
       "      <td>81</td>\n",
       "      <td>17</td>\n",
       "      <td>-27</td>\n",
       "      <td>-89</td>\n",
       "      <td>-67</td>\n",
       "      <td>105</td>\n",
       "      <td>-116</td>\n",
       "      <td>124</td>\n",
       "      <td>-106</td>\n",
       "      <td>5</td>\n",
       "      <td>-120</td>\n",
       "      <td>63</td>\n",
       "      <td>-165</td>\n",
       "      <td>...</td>\n",
       "      <td>81</td>\n",
       "      <td>-114</td>\n",
       "      <td>-187</td>\n",
       "      <td>45</td>\n",
       "      <td>-118</td>\n",
       "      <td>-75</td>\n",
       "      <td>-182</td>\n",
       "      <td>-234</td>\n",
       "      <td>-19</td>\n",
       "      <td>12</td>\n",
       "      <td>-13</td>\n",
       "      <td>-41</td>\n",
       "      <td>-119</td>\n",
       "      <td>-149</td>\n",
       "      <td>70</td>\n",
       "      <td>17</td>\n",
       "      <td>-20</td>\n",
       "      <td>-177</td>\n",
       "      <td>-101</td>\n",
       "      <td>-116</td>\n",
       "      <td>-14</td>\n",
       "      <td>-50</td>\n",
       "      <td>24</td>\n",
       "      <td>-81</td>\n",
       "      <td>-125</td>\n",
       "      <td>-114</td>\n",
       "      <td>-44</td>\n",
       "      <td>128</td>\n",
       "      <td>3</td>\n",
       "      <td>-244</td>\n",
       "      <td>-308</td>\n",
       "      <td>52</td>\n",
       "      <td>-7</td>\n",
       "      <td>39</td>\n",
       "      <td>126</td>\n",
       "      <td>156</td>\n",
       "      <td>-50</td>\n",
       "      <td>-112</td>\n",
       "      <td>96</td>\n",
       "      <td>1</td>\n",
       "    </tr>\n",
       "    <tr>\n",
       "      <th>1</th>\n",
       "      <td>2</td>\n",
       "      <td>MUSK-211</td>\n",
       "      <td>211_1+10</td>\n",
       "      <td>41</td>\n",
       "      <td>-188</td>\n",
       "      <td>-145</td>\n",
       "      <td>22</td>\n",
       "      <td>-117</td>\n",
       "      <td>-6</td>\n",
       "      <td>57</td>\n",
       "      <td>-171</td>\n",
       "      <td>-39</td>\n",
       "      <td>-100</td>\n",
       "      <td>-319</td>\n",
       "      <td>-111</td>\n",
       "      <td>-228</td>\n",
       "      <td>-281</td>\n",
       "      <td>-281</td>\n",
       "      <td>-300</td>\n",
       "      <td>54</td>\n",
       "      <td>-149</td>\n",
       "      <td>-98</td>\n",
       "      <td>-196</td>\n",
       "      <td>-27</td>\n",
       "      <td>-22</td>\n",
       "      <td>2</td>\n",
       "      <td>75</td>\n",
       "      <td>49</td>\n",
       "      <td>-34</td>\n",
       "      <td>45</td>\n",
       "      <td>-91</td>\n",
       "      <td>32</td>\n",
       "      <td>95</td>\n",
       "      <td>-116</td>\n",
       "      <td>85</td>\n",
       "      <td>-23</td>\n",
       "      <td>42</td>\n",
       "      <td>-58</td>\n",
       "      <td>61</td>\n",
       "      <td>-171</td>\n",
       "      <td>...</td>\n",
       "      <td>88</td>\n",
       "      <td>-21</td>\n",
       "      <td>-32</td>\n",
       "      <td>32</td>\n",
       "      <td>-128</td>\n",
       "      <td>-72</td>\n",
       "      <td>-124</td>\n",
       "      <td>-218</td>\n",
       "      <td>-94</td>\n",
       "      <td>53</td>\n",
       "      <td>-79</td>\n",
       "      <td>-20</td>\n",
       "      <td>-35</td>\n",
       "      <td>-26</td>\n",
       "      <td>4</td>\n",
       "      <td>50</td>\n",
       "      <td>17</td>\n",
       "      <td>-177</td>\n",
       "      <td>-102</td>\n",
       "      <td>-121</td>\n",
       "      <td>-66</td>\n",
       "      <td>-77</td>\n",
       "      <td>51</td>\n",
       "      <td>-41</td>\n",
       "      <td>-34</td>\n",
       "      <td>-32</td>\n",
       "      <td>-63</td>\n",
       "      <td>115</td>\n",
       "      <td>-5</td>\n",
       "      <td>-235</td>\n",
       "      <td>-59</td>\n",
       "      <td>-2</td>\n",
       "      <td>52</td>\n",
       "      <td>103</td>\n",
       "      <td>136</td>\n",
       "      <td>169</td>\n",
       "      <td>-61</td>\n",
       "      <td>-136</td>\n",
       "      <td>79</td>\n",
       "      <td>1</td>\n",
       "    </tr>\n",
       "    <tr>\n",
       "      <th>2</th>\n",
       "      <td>3</td>\n",
       "      <td>MUSK-211</td>\n",
       "      <td>211_1+11</td>\n",
       "      <td>46</td>\n",
       "      <td>-194</td>\n",
       "      <td>-145</td>\n",
       "      <td>28</td>\n",
       "      <td>-117</td>\n",
       "      <td>73</td>\n",
       "      <td>57</td>\n",
       "      <td>-168</td>\n",
       "      <td>-39</td>\n",
       "      <td>-22</td>\n",
       "      <td>-319</td>\n",
       "      <td>-111</td>\n",
       "      <td>-104</td>\n",
       "      <td>-283</td>\n",
       "      <td>-282</td>\n",
       "      <td>-303</td>\n",
       "      <td>52</td>\n",
       "      <td>-152</td>\n",
       "      <td>-97</td>\n",
       "      <td>-225</td>\n",
       "      <td>-28</td>\n",
       "      <td>-22</td>\n",
       "      <td>2</td>\n",
       "      <td>179</td>\n",
       "      <td>49</td>\n",
       "      <td>-33</td>\n",
       "      <td>46</td>\n",
       "      <td>-88</td>\n",
       "      <td>22</td>\n",
       "      <td>79</td>\n",
       "      <td>-116</td>\n",
       "      <td>19</td>\n",
       "      <td>-11</td>\n",
       "      <td>6</td>\n",
       "      <td>-38</td>\n",
       "      <td>71</td>\n",
       "      <td>-175</td>\n",
       "      <td>...</td>\n",
       "      <td>64</td>\n",
       "      <td>0</td>\n",
       "      <td>-23</td>\n",
       "      <td>-15</td>\n",
       "      <td>-129</td>\n",
       "      <td>-74</td>\n",
       "      <td>-125</td>\n",
       "      <td>-221</td>\n",
       "      <td>-93</td>\n",
       "      <td>53</td>\n",
       "      <td>-72</td>\n",
       "      <td>-19</td>\n",
       "      <td>-33</td>\n",
       "      <td>-26</td>\n",
       "      <td>3</td>\n",
       "      <td>49</td>\n",
       "      <td>17</td>\n",
       "      <td>-177</td>\n",
       "      <td>-102</td>\n",
       "      <td>-119</td>\n",
       "      <td>-66</td>\n",
       "      <td>-81</td>\n",
       "      <td>51</td>\n",
       "      <td>-41</td>\n",
       "      <td>-27</td>\n",
       "      <td>-41</td>\n",
       "      <td>-140</td>\n",
       "      <td>77</td>\n",
       "      <td>-163</td>\n",
       "      <td>-238</td>\n",
       "      <td>-134</td>\n",
       "      <td>-154</td>\n",
       "      <td>57</td>\n",
       "      <td>143</td>\n",
       "      <td>142</td>\n",
       "      <td>165</td>\n",
       "      <td>-67</td>\n",
       "      <td>-145</td>\n",
       "      <td>39</td>\n",
       "      <td>1</td>\n",
       "    </tr>\n",
       "  </tbody>\n",
       "</table>\n",
       "<p>3 rows × 170 columns</p>\n",
       "</div>"
      ],
      "text/plain": [
       "   ID molecule_name conformation_name  f1   f2  ...  f163  f164  f165  f166  class\n",
       "0   1      MUSK-211           211_1+1  46 -108  ...   156   -50  -112    96      1\n",
       "1   2      MUSK-211          211_1+10  41 -188  ...   169   -61  -136    79      1\n",
       "2   3      MUSK-211          211_1+11  46 -194  ...   165   -67  -145    39      1\n",
       "\n",
       "[3 rows x 170 columns]"
      ]
     },
     "execution_count": 5,
     "metadata": {
      "tags": []
     },
     "output_type": "execute_result"
    }
   ],
   "source": [
    "data.head(3)"
   ]
  },
  {
   "cell_type": "markdown",
   "metadata": {},
   "source": [
    "Checking if null values are present."
   ]
  },
  {
   "cell_type": "code",
   "execution_count": 6,
   "metadata": {
    "colab": {
     "base_uri": "https://localhost:8080/",
     "height": 218
    },
    "colab_type": "code",
    "id": "G8eVdC0Ol8Xk",
    "outputId": "781303ae-57f6-43b7-8608-a091a1f3d9c3"
   },
   "outputs": [
    {
     "data": {
      "text/plain": [
       "ID                   0\n",
       "molecule_name        0\n",
       "conformation_name    0\n",
       "f1                   0\n",
       "f2                   0\n",
       "                    ..\n",
       "f163                 0\n",
       "f164                 0\n",
       "f165                 0\n",
       "f166                 0\n",
       "class                0\n",
       "Length: 170, dtype: int64"
      ]
     },
     "execution_count": 6,
     "metadata": {
      "tags": []
     },
     "output_type": "execute_result"
    }
   ],
   "source": [
    "data.isnull().sum()"
   ]
  },
  {
   "cell_type": "markdown",
   "metadata": {},
   "source": [
    "Dividing the dataset into 1's and 0's along with their corresponding labels."
   ]
  },
  {
   "cell_type": "code",
   "execution_count": 0,
   "metadata": {
    "colab": {},
    "colab_type": "code",
    "id": "fOiKMtjQmDi1"
   },
   "outputs": [],
   "source": [
    "data_1 = data[data['class']==1].iloc[:,3:-1]\n",
    "data_0 = data[data['class']==0].iloc[:,3:-1]\n",
    "y_1 = data[data['class']==1].iloc[:,-1]\n",
    "y_0 = data[data['class']==0].iloc[:,-1]"
   ]
  },
  {
   "cell_type": "code",
   "execution_count": 0,
   "metadata": {
    "colab": {},
    "colab_type": "code",
    "id": "6bLRGi31mG6Q"
   },
   "outputs": [],
   "source": [
    "data_1 = data_1.values\n",
    "data_0 = data_0.values"
   ]
  },
  {
   "cell_type": "markdown",
   "metadata": {},
   "source": [
    "How I am planning to approach this problem is, since these values follow a pattern, I will be plotting every row and on these images, I will apply CNN. "
   ]
  },
  {
   "cell_type": "markdown",
   "metadata": {},
   "source": [
    "Will be plotting the rows with label 1 first"
   ]
  },
  {
   "cell_type": "code",
   "execution_count": 10,
   "metadata": {
    "colab": {
     "base_uri": "https://localhost:8080/",
     "height": 248
    },
    "colab_type": "code",
    "id": "VZ2FBGdemJVO",
    "outputId": "0f436ab4-8099-49d4-89ba-c381f4dd67d0"
   },
   "outputs": [
    {
     "data": {
      "image/png": "[encoded data removed]",
      "text/plain": [
       "<Figure size 432x288 with 1 Axes>"
      ]
     },
     "metadata": {
      "tags": []
     },
     "output_type": "display_data"
    }
   ],
   "source": [
    "%matplotlib inline\n",
    "import pylab as plt\n",
    "\n",
    "def im_1(l1):\n",
    "    i=0\n",
    "    fig=plt.figure(frameon=False)\n",
    "    while(i!=len(l1)):\n",
    "        fig.clf()\n",
    "        p1=l1[i]\n",
    "        plt.plot(p1)\n",
    "        plt.axis('off')\n",
    "        plt.savefig('classification project//class1//sample_1_'+str(i)+\".png\")\n",
    "        i+=1\n",
    "im_1(data_1)"
   ]
  },
  {
   "cell_type": "markdown",
   "metadata": {},
   "source": [
    "Will be plotting the rows with label 0's next."
   ]
  },
  {
   "cell_type": "code",
   "execution_count": 11,
   "metadata": {
    "colab": {
     "base_uri": "https://localhost:8080/",
     "height": 248
    },
    "colab_type": "code",
    "id": "ysLT02iJmOTc",
    "outputId": "f154a9b6-9d2e-49d4-8c97-61bc9d086b07"
   },
   "outputs": [
    {
     "data": {
      "image/png": "[encoded data removed]",
      "text/plain": [
       "<Figure size 432x288 with 1 Axes>"
      ]
     },
     "metadata": {
      "tags": []
     },
     "output_type": "display_data"
    }
   ],
   "source": [
    "%matplotlib inline\n",
    "import pylab as plt\n",
    "\n",
    "def im_0(l1):\n",
    "    i=0\n",
    "    fig=plt.figure(frameon=False)\n",
    "    while(i!=len(l1)):\n",
    "        fig.clf()\n",
    "        p1=l1[i]\n",
    "        plt.plot(p1)\n",
    "        plt.axis('off')\n",
    "        plt.savefig('classification project//class0//sample_0_'+str(i)+\".png\")\n",
    "        i+=1\n",
    "im_0(data_0)"
   ]
  },
  {
   "cell_type": "markdown",
   "metadata": {},
   "source": [
    "Corresponding paths. path3 will hold the grey scaled images AFTER they are preprocessed."
   ]
  },
  {
   "cell_type": "code",
   "execution_count": 0,
   "metadata": {
    "colab": {},
    "colab_type": "code",
    "id": "zPMPFsikmq7a"
   },
   "outputs": [],
   "source": [
    "path1='classification project//class0'\n",
    "path2='classification project//class1'\n",
    "path3='classification project//preprocessed'"
   ]
  },
  {
   "cell_type": "markdown",
   "metadata": {},
   "source": [
    "Creating lists of image names."
   ]
  },
  {
   "cell_type": "code",
   "execution_count": null,
   "metadata": {
    "colab": {},
    "colab_type": "code",
    "id": "7nuN70rfoEwx"
   },
   "outputs": [],
   "source": [
    "import os\n",
    "from PIL import Image\n",
    "\n",
    "listing0=os.listdir(path1)\n",
    "listing1=os.listdir(path2)\n"
   ]
  },
  {
   "cell_type": "markdown",
   "metadata": {},
   "source": [
    "Resizing the image and storing it in path3 which is supposed to store preprocessed images."
   ]
  },
  {
   "cell_type": "code",
   "execution_count": 0,
   "metadata": {
    "colab": {},
    "colab_type": "code",
    "id": "b4-X_TrYoGb8"
   },
   "outputs": [],
   "source": [
    "for file in listing0:\n",
    "    im=Image.open(path1 + '//' + file)\n",
    "    img=im.resize((256,256))\n",
    "    gray=img.convert('L')\n",
    "    gray.save(path3 + '//' + file, \"JPEG\")"
   ]
  },
  {
   "cell_type": "code",
   "execution_count": 0,
   "metadata": {
    "colab": {},
    "colab_type": "code",
    "id": "1OxNySmMoHhF"
   },
   "outputs": [],
   "source": [
    "for file in listing1:\n",
    "    im=Image.open(path2 + '//' + file)\n",
    "    img=im.resize((256,256))\n",
    "    gray=img.convert('L')\n",
    "    gray.save(path3 + '//' + file, \"JPEG\")"
   ]
  },
  {
   "cell_type": "code",
   "execution_count": 0,
   "metadata": {
    "colab": {},
    "colab_type": "code",
    "id": "hJ4RFh1kpBD8"
   },
   "outputs": [],
   "source": [
    "imlist=os.listdir(path3)"
   ]
  },
  {
   "cell_type": "markdown",
   "metadata": {},
   "source": [
    "Checking if the totals(samples) match up. Yes, they do."
   ]
  },
  {
   "cell_type": "code",
   "execution_count": 4,
   "metadata": {
    "colab": {
     "base_uri": "https://localhost:8080/",
     "height": 34
    },
    "colab_type": "code",
    "id": "rV2AXp-_pTpO",
    "outputId": "19c25fc0-bd02-4238-f7bc-14506dd9f251"
   },
   "outputs": [
    {
     "data": {
      "text/plain": [
       "(6598, 5581, 1017)"
      ]
     },
     "execution_count": 4,
     "metadata": {
      "tags": []
     },
     "output_type": "execute_result"
    }
   ],
   "source": [
    "len(imlist), len(listing0), len(listing1)"
   ]
  },
  {
   "cell_type": "markdown",
   "metadata": {},
   "source": [
    "Since initially we don't know the index locations of the classes(0 & 1), we will be distinguishing the images corresponding to class 1 only.\n",
    "\n",
    "To do this, we will\n",
    "\n",
    "first generate a list of strings which match with the image names we are trying to find out the index locations of.\n",
    "We then run a loop and if a match is found between the real directory containing images and the list previously created, we will be collecting index locations of the image names corresponding to class 1.\n"
   ]
  },
  {
   "cell_type": "code",
   "execution_count": 0,
   "metadata": {
    "colab": {},
    "colab_type": "code",
    "id": "8MtEXvfRpVdu"
   },
   "outputs": [],
   "source": [
    "list1=[]\n",
    "for i in range(0,1017):\n",
    "    list1.append('sample_1_'+str(i)+'.png')\n",
    "\n",
    "#Step 2        \n",
    "list2=[]\n",
    "for i in range(0,len(imlist)):\n",
    "      if imlist[i] in list1:\n",
    "        list2.append(i)"
   ]
  },
  {
   "cell_type": "markdown",
   "metadata": {},
   "source": [
    "Importing necessary APIs\n"
   ]
  },
  {
   "cell_type": "code",
   "execution_count": 6,
   "metadata": {
    "colab": {
     "base_uri": "https://localhost:8080/",
     "height": 79
    },
    "colab_type": "code",
    "id": "F82znxBJpW66",
    "outputId": "a0c6ec67-c9f5-45a6-8892-f819c856eab8"
   },
   "outputs": [
    {
     "data": {
      "text/html": [
       "<p style=\"color: red;\">\n",
       "The default version of TensorFlow in Colab will soon switch to TensorFlow 2.x.<br>\n",
       "We recommend you <a href=\"https://www.tensorflow.org/guide/migrate\" target=\"_blank\">upgrade</a> now \n",
       "or ensure your notebook will continue to use TensorFlow 1.x via the <code>%tensorflow_version 1.x</code> magic:\n",
       "<a href=\"https://colab.research.google.com/notebooks/tensorflow_version.ipynb\" target=\"_blank\">more info</a>.</p>\n"
      ],
      "text/plain": [
       "<IPython.core.display.HTML object>"
      ]
     },
     "metadata": {
      "tags": []
     },
     "output_type": "display_data"
    },
    {
     "name": "stderr",
     "output_type": "stream",
     "text": [
      "Using TensorFlow backend.\n"
     ]
    }
   ],
   "source": [
    "# For controlling Python warnings - https://docs.python.org/3.6/library/warnings.html\n",
    "import warnings\n",
    "warnings.filterwarnings(\"ignore\")\n",
    "\n",
    "# For iterators - https://docs.python.org/3.1/library/itertools.html\n",
    "import itertools\n",
    "\n",
    "# For loading and handling data\n",
    "import numpy as np\n",
    "import pandas as pd\n",
    "\n",
    "# For Normalization\n",
    "from sklearn.preprocessing import MinMaxScaler\n",
    "\n",
    "# For constructing DNN\n",
    "import tensorflow as tf\n",
    "tf.logging.set_verbosity(tf.logging.ERROR)\n",
    "from keras.layers import Input,Dropout,Dense \n",
    "from keras.models import Model\n",
    "from keras import regularizers\n",
    "from keras.utils.data_utils import get_file\n",
    "\n",
    "# For visualization\n",
    "import matplotlib.pyplot as plt\n",
    "\n",
    "# For evaluating the accuracy\n",
    "from sklearn.metrics import confusion_matrix,accuracy_score,recall_score,precision_score,f1_score\n",
    "%matplotlib inline\n",
    "import os"
   ]
  },
  {
   "cell_type": "code",
   "execution_count": 0,
   "metadata": {
    "colab": {},
    "colab_type": "code",
    "id": "_ngLhM6Sp8yj"
   },
   "outputs": [],
   "source": [
    "from numpy import *\n",
    "\n",
    "num_samples=size(imlist)"
   ]
  },
  {
   "cell_type": "markdown",
   "metadata": {},
   "source": [
    "Converting these images into array of pixels."
   ]
  },
  {
   "cell_type": "code",
   "execution_count": 0,
   "metadata": {
    "colab": {},
    "colab_type": "code",
    "id": "fKC5OObRqIRg"
   },
   "outputs": [],
   "source": [
    "immatrix=array([array(Image.open('classification project/preprocessed' + '/' + im2)).flatten() for im2 in imlist], 'f')"
   ]
  },
  {
   "cell_type": "markdown",
   "metadata": {},
   "source": [
    "Creating an array of size equal to the row size of the data with initial values 1. We will then use the index locations which we found out earlier to change these label values to either 0 (if index of the new loop does not match with label) or 1 (if index of the new loop matches with the label)\n",
    "\n"
   ]
  },
  {
   "cell_type": "code",
   "execution_count": 0,
   "metadata": {
    "colab": {},
    "colab_type": "code",
    "id": "c6twPC07qaRQ"
   },
   "outputs": [],
   "source": [
    "labels=np.ones((num_samples,), dtype=int)"
   ]
  },
  {
   "cell_type": "code",
   "execution_count": 0,
   "metadata": {
    "colab": {},
    "colab_type": "code",
    "id": "AIOulcZMqp59"
   },
   "outputs": [],
   "source": [
    "for i in range(0,len(labels)):\n",
    "    if i in list2:\n",
    "        labels[i]=1\n",
    "    else:\n",
    "        labels[i]=0"
   ]
  },
  {
   "cell_type": "markdown",
   "metadata": {},
   "source": [
    "Creating a dataframe."
   ]
  },
  {
   "cell_type": "code",
   "execution_count": 0,
   "metadata": {
    "colab": {},
    "colab_type": "code",
    "id": "ZLPE8DMpqsHU"
   },
   "outputs": [],
   "source": [
    "df1=pd.DataFrame(immatrix)"
   ]
  },
  {
   "cell_type": "code",
   "execution_count": 0,
   "metadata": {
    "colab": {},
    "colab_type": "code",
    "id": "-FrQiE2lqtbc"
   },
   "outputs": [],
   "source": [
    "defi=labels.tolist()\n",
    "df1['class']=labels"
   ]
  },
  {
   "cell_type": "markdown",
   "metadata": {},
   "source": [
    "# Class Imbalance problem\n",
    "\n",
    "Non musk samples dominate the dataset.  "
   ]
  },
  {
   "cell_type": "code",
   "execution_count": 15,
   "metadata": {
    "colab": {
     "base_uri": "https://localhost:8080/",
     "height": 279
    },
    "colab_type": "code",
    "id": "2N_g59sJq1y9",
    "outputId": "39e71c54-4d1c-4432-f05b-2c81f3ae4a53"
   },
   "outputs": [
    {
     "data": {
      "text/plain": [
       "<matplotlib.axes._subplots.AxesSubplot at 0x7f33cb6fea90>"
      ]
     },
     "execution_count": 15,
     "metadata": {
      "tags": []
     },
     "output_type": "execute_result"
    },
    {
     "data": {
      "image/png": "[encoded data removed]",
      "text/plain": [
       "<Figure size 432x288 with 1 Axes>"
      ]
     },
     "metadata": {
      "tags": []
     },
     "output_type": "display_data"
    }
   ],
   "source": [
    "pd.Series(df1.iloc[:,-1]).value_counts().plot.bar()"
   ]
  },
  {
   "cell_type": "markdown",
   "metadata": {},
   "source": [
    "Only 15% of the dataset constitute samples belonging to Musk labels."
   ]
  },
  {
   "cell_type": "code",
   "execution_count": 16,
   "metadata": {
    "colab": {
     "base_uri": "https://localhost:8080/",
     "height": 67
    },
    "colab_type": "code",
    "id": "DOAfZI2sq32m",
    "outputId": "88cb0b22-a8d8-4f99-8462-d8f6bb7018fc"
   },
   "outputs": [
    {
     "data": {
      "text/plain": [
       "0    0.845862\n",
       "1    0.154138\n",
       "Name: class, dtype: float64"
      ]
     },
     "execution_count": 16,
     "metadata": {
      "tags": []
     },
     "output_type": "execute_result"
    }
   ],
   "source": [
    "df1['class'].value_counts()/len(df1)"
   ]
  },
  {
   "cell_type": "code",
   "execution_count": 0,
   "metadata": {
    "colab": {},
    "colab_type": "code",
    "id": "NiGTQ_G4rXBT"
   },
   "outputs": [],
   "source": [
    "\n",
    "X=np.array(df1.loc[:,df1.columns!='class'])\n",
    "y=np.array(df1.loc[:,df1.columns=='class']).reshape(-1,1)"
   ]
  },
  {
   "cell_type": "markdown",
   "metadata": {},
   "source": [
    "Before we deal with class imbalance, lets scale data."
   ]
  },
  {
   "cell_type": "code",
   "execution_count": 0,
   "metadata": {
    "colab": {},
    "colab_type": "code",
    "id": "gjRUKshTrZqY"
   },
   "outputs": [],
   "source": [
    "from sklearn.preprocessing import StandardScaler\n",
    "\n",
    "scaler=StandardScaler()\n",
    "X=scaler.fit_transform(X)\n"
   ]
  },
  {
   "cell_type": "markdown",
   "metadata": {},
   "source": [
    "Splitting data into train and test, for validation purposes."
   ]
  },
  {
   "cell_type": "code",
   "execution_count": 0,
   "metadata": {
    "colab": {},
    "colab_type": "code",
    "id": "TBpXEntIrcAx"
   },
   "outputs": [],
   "source": [
    "from sklearn.model_selection import train_test_split\n",
    "\n",
    "X_train,X_test,y_train,y_test=train_test_split(X,y,test_size=0.33,random_state=2, shuffle=True,stratify=y)\n"
   ]
  },
  {
   "cell_type": "markdown",
   "metadata": {},
   "source": [
    "Balancing the dataset using SMOTE."
   ]
  },
  {
   "cell_type": "code",
   "execution_count": 0,
   "metadata": {
    "colab": {},
    "colab_type": "code",
    "id": "oZkTP5xrrfMM"
   },
   "outputs": [],
   "source": [
    "from imblearn.over_sampling import SMOTE\n",
    "\n",
    "sm=SMOTE(random_state=33)\n"
   ]
  },
  {
   "cell_type": "code",
   "execution_count": 0,
   "metadata": {
    "colab": {},
    "colab_type": "code",
    "id": "Fo8AP5EZrhSu"
   },
   "outputs": [],
   "source": [
    "X_train_new, y_train_new=sm.fit_sample(X_train,y_train.ravel())\n"
   ]
  },
  {
   "cell_type": "markdown",
   "metadata": {},
   "source": [
    "Balanced data."
   ]
  },
  {
   "cell_type": "code",
   "execution_count": 22,
   "metadata": {
    "colab": {
     "base_uri": "https://localhost:8080/",
     "height": 279
    },
    "colab_type": "code",
    "id": "YQahDxlGrjCl",
    "outputId": "cd598cfd-45f2-41d3-8efa-0193e04bb93b"
   },
   "outputs": [
    {
     "data": {
      "text/plain": [
       "<matplotlib.axes._subplots.AxesSubplot at 0x7f33c751c7b8>"
      ]
     },
     "execution_count": 22,
     "metadata": {
      "tags": []
     },
     "output_type": "execute_result"
    },
    {
     "data": {
      "image/png": "[encoded data removed]",
      "text/plain": [
       "<Figure size 432x288 with 1 Axes>"
      ]
     },
     "metadata": {
      "tags": []
     },
     "output_type": "display_data"
    }
   ],
   "source": [
    "pd.Series(y_train_new).value_counts().plot.bar()"
   ]
  },
  {
   "cell_type": "code",
   "execution_count": 0,
   "metadata": {
    "colab": {},
    "colab_type": "code",
    "id": "qa6LT6tbr1vj"
   },
   "outputs": [],
   "source": [
    "X_train_cnn=X_train_new\n",
    "y_train_cnn=y_train_new\n",
    "X_test_cnn=X_test\n",
    "y_test_cnn=y_test.ravel()\n"
   ]
  },
  {
   "cell_type": "code",
   "execution_count": 24,
   "metadata": {
    "colab": {
     "base_uri": "https://localhost:8080/",
     "height": 84
    },
    "colab_type": "code",
    "id": "gQKljyAnr4Tq",
    "outputId": "f2c2e9a2-d76a-42db-f6d7-3d3c1e993021"
   },
   "outputs": [
    {
     "name": "stdout",
     "output_type": "stream",
     "text": [
      "(7478, 65536)\n",
      "(7478,)\n",
      "(2178, 65536)\n",
      "(2178,)\n"
     ]
    }
   ],
   "source": [
    "print(X_train_cnn.shape)\n",
    "print(y_train_cnn.shape)\n",
    "print(X_test_cnn.shape)\n",
    "print(y_test_cnn.shape)\n"
   ]
  },
  {
   "cell_type": "markdown",
   "metadata": {},
   "source": [
    "Converting these samples into 3 Dimenstions. (x,y,channel)"
   ]
  },
  {
   "cell_type": "code",
   "execution_count": 0,
   "metadata": {
    "colab": {},
    "colab_type": "code",
    "id": "4XvBqdE-r5oJ"
   },
   "outputs": [],
   "source": [
    "img_row,img_col=256,256\n",
    "X_train_cnn=X_train_cnn.reshape(X_train_cnn.shape[0],img_row,img_col,1).astype('float32')\n",
    "X_test_cnn=X_test_cnn.reshape(X_test_cnn.shape[0],img_row,img_col,1).astype('float32')"
   ]
  },
  {
   "cell_type": "markdown",
   "metadata": {},
   "source": [
    "One hot encoding the y labels."
   ]
  },
  {
   "cell_type": "code",
   "execution_count": 0,
   "metadata": {
    "colab": {},
    "colab_type": "code",
    "id": "jD7L9vEor94K"
   },
   "outputs": [],
   "source": [
    "from keras.utils import np_utils\n",
    "y_train_cnn=np_utils.to_categorical(y_train_cnn,2)\n",
    "y_test_cnn=np_utils.to_categorical(y_test_cnn,2)"
   ]
  },
  {
   "cell_type": "code",
   "execution_count": 0,
   "metadata": {
    "colab": {},
    "colab_type": "code",
    "id": "T9JjsSvfsAmn"
   },
   "outputs": [],
   "source": [
    "from keras.models import Sequential\n",
    "from keras.layers import MaxPooling2D, Conv2D, Dropout, Dense, Flatten, Activation, Input\n",
    "from keras.optimizers import Adam\n"
   ]
  },
  {
   "cell_type": "markdown",
   "metadata": {},
   "source": [
    "The CNN architecture, a very basic one."
   ]
  },
  {
   "cell_type": "code",
   "execution_count": 0,
   "metadata": {
    "colab": {},
    "colab_type": "code",
    "id": "eQMAk_QYsIl0"
   },
   "outputs": [],
   "source": [
    "model=Sequential()\n",
    "\n",
    "model = Sequential()\n",
    "model.add(Conv2D(32, (3,3),activation='relu',input_shape=(256,256,1)))\n",
    "\n",
    "model.add(MaxPooling2D(pool_size=(2, 2)))\n",
    "model.add(Conv2D(64, (3, 3), activation='relu'))\n",
    "model.add(Dropout(0.25)) # For regularization\n",
    "model.add(MaxPooling2D(pool_size=(2, 2)))\n",
    "model.add(Flatten())\n",
    "model.add(Dense(128, activation='relu'))\n",
    "model.add(Dropout(0.5))\n",
    "model.add(Dense(2, activation='softmax'))"
   ]
  },
  {
   "cell_type": "markdown",
   "metadata": {},
   "source": [
    "Since this is a multi class classification, we will be using softmax along with categorical crossentropy."
   ]
  },
  {
   "cell_type": "code",
   "execution_count": 29,
   "metadata": {
    "colab": {
     "base_uri": "https://localhost:8080/",
     "height": 386
    },
    "colab_type": "code",
    "id": "URE3ZidKsKFy",
    "outputId": "b97403ae-9230-405f-9025-e556f9efe0c0"
   },
   "outputs": [
    {
     "name": "stdout",
     "output_type": "stream",
     "text": [
      "Train on 7478 samples, validate on 2178 samples\n",
      "Epoch 1/10\n",
      "7478/7478 [==============================] - 27s 4ms/step - loss: 7.1297 - acc: 0.5350 - val_loss: 1.0194 - val_acc: 0.7672\n",
      "Epoch 2/10\n",
      "7478/7478 [==============================] - 10s 1ms/step - loss: 0.2026 - acc: 0.9271 - val_loss: 0.1144 - val_acc: 0.9605\n",
      "Epoch 3/10\n",
      "7478/7478 [==============================] - 10s 1ms/step - loss: 0.0382 - acc: 0.9876 - val_loss: 0.0812 - val_acc: 0.9720\n",
      "Epoch 4/10\n",
      "7478/7478 [==============================] - 10s 1ms/step - loss: 0.0186 - acc: 0.9932 - val_loss: 0.0676 - val_acc: 0.9775\n",
      "Epoch 5/10\n",
      "7478/7478 [==============================] - 10s 1ms/step - loss: 0.0106 - acc: 0.9971 - val_loss: 0.0833 - val_acc: 0.9780\n",
      "Epoch 6/10\n",
      "7478/7478 [==============================] - 10s 1ms/step - loss: 0.0097 - acc: 0.9972 - val_loss: 0.0828 - val_acc: 0.9789\n",
      "Epoch 7/10\n",
      "7478/7478 [==============================] - 10s 1ms/step - loss: 0.0100 - acc: 0.9972 - val_loss: 0.0743 - val_acc: 0.9821\n",
      "Epoch 8/10\n",
      "7478/7478 [==============================] - 10s 1ms/step - loss: 0.0046 - acc: 0.9987 - val_loss: 0.0715 - val_acc: 0.9807\n",
      "Epoch 9/10\n",
      "7478/7478 [==============================] - 10s 1ms/step - loss: 0.0052 - acc: 0.9984 - val_loss: 0.0962 - val_acc: 0.9780\n",
      "Epoch 10/10\n",
      "7478/7478 [==============================] - 10s 1ms/step - loss: 0.0052 - acc: 0.9989 - val_loss: 0.0982 - val_acc: 0.9798\n"
     ]
    },
    {
     "data": {
      "text/plain": [
       "<keras.callbacks.History at 0x7f33c6b2f198>"
      ]
     },
     "execution_count": 29,
     "metadata": {
      "tags": []
     },
     "output_type": "execute_result"
    }
   ],
   "source": [
    "model.compile(loss='categorical_crossentropy',optimizer='adam', metrics=['accuracy'])\n",
    "#default lr of 0.001 is good enough for this problem.\n",
    "model.fit(X_train_cnn,y_train_cnn,batch_size=128,epochs=10,verbose=1, validation_data=(X_test_cnn,y_test_cnn))\n"
   ]
  },
  {
   "cell_type": "markdown",
   "metadata": {},
   "source": [
    "To assess the performance, we will need the predictions."
   ]
  },
  {
   "cell_type": "code",
   "execution_count": 0,
   "metadata": {
    "colab": {},
    "colab_type": "code",
    "id": "lNO1vFzHsb99"
   },
   "outputs": [],
   "source": [
    "preds=model.predict_classes(X_test_cnn[:])\n",
    "y_test_values=y_test_cnn[:,1]"
   ]
  },
  {
   "cell_type": "markdown",
   "metadata": {},
   "source": [
    "Sometimes, accuracy can be misleading. So we will judge our model based on other metrics. F1, Precision, recall and MCC.\n",
    "Note: MCC is very powerful as it takes into account True Positives, True Negatives, False Positives and False Negatives."
   ]
  },
  {
   "cell_type": "code",
   "execution_count": 0,
   "metadata": {
    "colab": {},
    "colab_type": "code",
    "id": "XS6xMlnNvZXh"
   },
   "outputs": [],
   "source": [
    "from sklearn.metrics import f1_score, precision_score, recall_score, matthews_corrcoef"
   ]
  },
  {
   "cell_type": "markdown",
   "metadata": {},
   "source": [
    "Good enough."
   ]
  },
  {
   "cell_type": "code",
   "execution_count": 34,
   "metadata": {
    "colab": {
     "base_uri": "https://localhost:8080/",
     "height": 84
    },
    "colab_type": "code",
    "id": "y6LGlleGsgeB",
    "outputId": "3a8eada2-e501-4010-e2bb-a367bb5669a3"
   },
   "outputs": [
    {
     "name": "stdout",
     "output_type": "stream",
     "text": [
      "0.931888544891641\n",
      "0.9709677419354839\n",
      "0.8958333333333334\n",
      "0.9210796859918882\n"
     ]
    }
   ],
   "source": [
    "print(f1_score(y_test_values,preds))\n",
    "print(precision_score(y_test_values,preds))\n",
    "print(recall_score(y_test_values,preds))\n",
    "print(matthews_corrcoef(y_test_values,preds))"
   ]
  },
  {
   "cell_type": "markdown",
   "metadata": {},
   "source": [
    "Accuracy and loss plots for both training and test data."
   ]
  },
  {
   "cell_type": "code",
   "execution_count": 30,
   "metadata": {
    "colab": {
     "base_uri": "https://localhost:8080/",
     "height": 295
    },
    "colab_type": "code",
    "id": "sDGf_r4lvkok",
    "outputId": "ee65db37-2bd9-4947-cfe2-63d50601eae0"
   },
   "outputs": [
    {
     "data": {
      "image/png": "[encoded data removed]",
      "text/plain": [
       "<Figure size 432x288 with 1 Axes>"
      ]
     },
     "metadata": {
      "tags": []
     },
     "output_type": "display_data"
    }
   ],
   "source": [
    "plt.plot(model.history.history['acc'])\n",
    "plt.plot(model.history.history['val_acc'])\n",
    "plt.title('model accuracy')\n",
    "plt.ylabel('accuracy')\n",
    "plt.xlabel('epoch')\n",
    "plt.legend(['train', 'test'], loc='upper left')\n",
    "plt.show()"
   ]
  },
  {
   "cell_type": "code",
   "execution_count": 31,
   "metadata": {
    "colab": {
     "base_uri": "https://localhost:8080/",
     "height": 295
    },
    "colab_type": "code",
    "id": "6tBgi-4owQ2u",
    "outputId": "9a94cfeb-21df-4d32-f25f-90639a48bdfc"
   },
   "outputs": [
    {
     "data": {
      "image/png": "[encoded data removed]",
      "text/plain": [
       "<Figure size 432x288 with 1 Axes>"
      ]
     },
     "metadata": {
      "tags": []
     },
     "output_type": "display_data"
    }
   ],
   "source": [
    "plt.plot(model.history.history['loss'])\n",
    "plt.plot(model.history.history['val_loss'])\n",
    "plt.title('model loss')\n",
    "plt.ylabel('loss')\n",
    "plt.xlabel('epoch')\n",
    "plt.legend(['train', 'test'], loc='upper left')\n",
    "plt.show()"
   ]
  },
  {
   "cell_type": "code",
   "execution_count": 0,
   "metadata": {
    "colab": {},
    "colab_type": "code",
    "id": "aCj9lVq2z-pU"
   },
   "outputs": [],
   "source": []
  }
 ],
 "metadata": {
  "accelerator": "GPU",
  "colab": {
   "name": "Untitled3.ipynb",
   "provenance": []
  },
  "kernelspec": {
   "display_name": "Python 3",
   "language": "python",
   "name": "python3"
  },
  "language_info": {
   "codemirror_mode": {
    "name": "ipython",
    "version": 3
   },
   "file_extension": ".py",
   "mimetype": "text/x-python",
   "name": "python",
   "nbconvert_exporter": "python",
   "pygments_lexer": "ipython3",
   "version": "3.7.4"
  }
 },
 "nbformat": 4,
 "nbformat_minor": 1
}
