{
 "cells": [
  {
   "cell_type": "code",
   "execution_count": 1,
   "metadata": {},
   "outputs": [],
   "source": [
    "import numpy as np\n",
    "path_list = ['1,2,4,6',\n",
    "      '1,2,4,7',\n",
    "      '1,3,5,8']"
   ]
  },
  {
   "cell_type": "code",
   "execution_count": 2,
   "metadata": {},
   "outputs": [],
   "source": [
    "sequence_list = ['1,try,valid,lastname,click,commit,notobserve,errormessage',\n",
    "'1,try,blank,lastname,click,commit,notobserve,errormessage',\n",
    "'1,try,invalid_special_characters,lastname,click,commit,observe,errormessage',\n",
    "'1,try,invalid_long,lastname,click,commit,observe,errormessage',\n",
    "        '12,try,valid,pin1,click,notobserve,errormessage',\n",
    "        '12,try,valid,pin2,click,notobserve,errormessage',\n",
    "        '13,try,invalid,password,length,notobserve,errormessage',\n",
    "        '13,try,valid,password,length,observe,errormessage',\n",
    "        '135,auto,invalid,pin2,click,notobserve,errormessage',\n",
    "        '135,auto,valid,pin2,click,notobserve,errormessage',\n",
    "      '124,try,valid,extra_info1,click,observe,errormessage',\n",
    "        '124,try,correct,extra_info2,select,notobserve,errormessage',\n",
    "      '1358,pincode,correct,extra_info2,click,notobserve,errormessage',\n",
    "       '1247,try,notcorrect,help,click,notobserve,errormessage',\n",
    "       '1247,try,correct,help,click,notobserve,errormessage',\n",
    "       '1246,auto,valid,dragdrop,click,observe,errormessage',\n",
    "       '1246,auto,valid,dragdrop,click,notobserve,errormessage']"
   ]
  },
  {
   "cell_type": "code",
   "execution_count": 3,
   "metadata": {},
   "outputs": [],
   "source": [
    "def data_dicts(X_):\n",
    "    word_to_ix={}\n",
    "    ix_to_word={}\n",
    "    x=0\n",
    "    for partial_quesries in X_:\n",
    "        partial_quesries = partial_quesries.split(\",\")\n",
    "        for word in partial_quesries:\n",
    "            if word not in word_to_ix.keys():\n",
    "                word_to_ix[word]=x\n",
    "                ix_to_word[x]=word\n",
    "                x+=1\n",
    "    return (word_to_ix,ix_to_word)\n",
    "location_to_state,state_to_location=data_dicts(path_list)    \n",
    "location_to_state1,state_to_location1=data_dicts(sequence_list)"
   ]
  },
  {
   "cell_type": "code",
   "execution_count": 4,
   "metadata": {},
   "outputs": [],
   "source": [
    "def list_to_num_seq(x, loc_to_state):\n",
    "    token_seq = []\n",
    "    for i in x:\n",
    "        i = i.split(\",\")\n",
    "        token_intermediate = []\n",
    "        for j in i:\n",
    "            token_intermediate.append(loc_to_state[j])\n",
    "        token_seq.append(token_intermediate)\n",
    "    return token_seq"
   ]
  },
  {
   "cell_type": "code",
   "execution_count": 5,
   "metadata": {},
   "outputs": [
    {
     "data": {
      "text/plain": [
       "(['1,2,4,6', '1,2,4,7', '1,3,5,8'],\n",
       " ['1,try,valid,lastname,click,commit,notobserve,errormessage',\n",
       "  '1,try,blank,lastname,click,commit,notobserve,errormessage',\n",
       "  '1,try,invalid_special_characters,lastname,click,commit,observe,errormessage',\n",
       "  '1,try,invalid_long,lastname,click,commit,observe,errormessage',\n",
       "  '12,try,valid,pin1,click,notobserve,errormessage',\n",
       "  '12,try,valid,pin2,click,notobserve,errormessage',\n",
       "  '13,try,invalid,password,length,notobserve,errormessage',\n",
       "  '13,try,valid,password,length,observe,errormessage',\n",
       "  '135,auto,invalid,pin2,click,notobserve,errormessage',\n",
       "  '135,auto,valid,pin2,click,notobserve,errormessage',\n",
       "  '124,try,valid,extra_info1,click,observe,errormessage',\n",
       "  '124,try,correct,extra_info2,select,notobserve,errormessage',\n",
       "  '1358,pincode,correct,extra_info2,click,notobserve,errormessage',\n",
       "  '1247,try,notcorrect,help,click,notobserve,errormessage',\n",
       "  '1247,try,correct,help,click,notobserve,errormessage',\n",
       "  '1246,auto,valid,dragdrop,click,observe,errormessage',\n",
       "  '1246,auto,valid,dragdrop,click,notobserve,errormessage'])"
      ]
     },
     "execution_count": 5,
     "metadata": {},
     "output_type": "execute_result"
    }
   ],
   "source": [
    "path_list, sequence_list"
   ]
  },
  {
   "cell_type": "code",
   "execution_count": 6,
   "metadata": {},
   "outputs": [],
   "source": [
    "path_array = np.array(list_to_num_seq(path_list, location_to_state)) # for lst\n",
    "sequence_array = np.array(list_to_num_seq(sequence_list, location_to_state1)) # for lst2"
   ]
  },
  {
   "cell_type": "code",
   "execution_count": 7,
   "metadata": {},
   "outputs": [
    {
     "data": {
      "text/plain": [
       "array([list([0, 1, 2, 3, 4, 5, 6, 7]), list([0, 1, 8, 3, 4, 5, 6, 7]),\n",
       "       list([0, 1, 9, 3, 4, 5, 10, 7]), list([0, 1, 11, 3, 4, 5, 10, 7]),\n",
       "       list([12, 1, 2, 13, 4, 6, 7]), list([12, 1, 2, 14, 4, 6, 7]),\n",
       "       list([15, 1, 16, 17, 18, 6, 7]), list([15, 1, 2, 17, 18, 10, 7]),\n",
       "       list([19, 20, 16, 14, 4, 6, 7]), list([19, 20, 2, 14, 4, 6, 7]),\n",
       "       list([21, 1, 2, 22, 4, 10, 7]), list([21, 1, 23, 24, 25, 6, 7]),\n",
       "       list([26, 27, 23, 24, 4, 6, 7]), list([28, 1, 29, 30, 4, 6, 7]),\n",
       "       list([28, 1, 23, 30, 4, 6, 7]), list([31, 20, 2, 32, 4, 10, 7]),\n",
       "       list([31, 20, 2, 32, 4, 6, 7])], dtype=object)"
      ]
     },
     "execution_count": 7,
     "metadata": {},
     "output_type": "execute_result"
    }
   ],
   "source": [
    "sequence_array"
   ]
  },
  {
   "cell_type": "code",
   "execution_count": 8,
   "metadata": {},
   "outputs": [],
   "source": [
    "gamma = 0.75 # Discount factor \n",
    "alpha = 0.9 # Learning rate"
   ]
  },
  {
   "cell_type": "code",
   "execution_count": 9,
   "metadata": {},
   "outputs": [],
   "source": [
    "def gen_reward_matrix(a_array,max_elem):\n",
    "    t= np.zeros((max_elem+3,max_elem+3))\n",
    "    di = dict()\n",
    "    for i in range(0,len(a_array)-1):\n",
    "        if a_array[i] in di.keys():\n",
    "            di[a_array[i]].append(a_array[i+1])\n",
    "        else:\n",
    "            di[a_array[i]] = a_array[i+1]\n",
    "    if a_array[-1] not in di:\n",
    "        di[a_array[-1]]=a_array[-1]+1\n",
    "    else:\n",
    "        di[a_array[-1]].append(a_array[-2])\n",
    "    \n",
    "    for i in range(max_elem+3):\n",
    "        if i in di.keys():\n",
    "            ls = di[i] \n",
    "            t[i][di[i]]=1\n",
    "    return t"
   ]
  },
  {
   "cell_type": "code",
   "execution_count": 10,
   "metadata": {},
   "outputs": [],
   "source": [
    "def obtain_sequence_pattern(a_arr,start_location,end_location,location_to_state):\n",
    "    for i in a_arr:\n",
    "        if (location_to_state[start_location] in i) and (location_to_state[end_location] in i):\n",
    "            a = i\n",
    "            break\n",
    "    return a\n",
    "    "
   ]
  },
  {
   "cell_type": "code",
   "execution_count": 11,
   "metadata": {},
   "outputs": [],
   "source": [
    "import random\n",
    "def get_optimal_route(start_location,end_location,location_to_state,state_to_location, a_arr):\n",
    "    a_arr = sorted(a_arr, key=lambda k: random.random())\n",
    "    a_array = obtain_sequence_pattern(a_arr,start_location,end_location,location_to_state)\n",
    "    max_elem = max(a_array)\n",
    "    rewards = gen_reward_matrix(a_array,max(a_array))\n",
    "    rewards_new = np.copy(rewards)\n",
    "    ending_state = location_to_state[end_location]\n",
    "    rewards_new[ending_state,ending_state] = 999\n",
    "    Q = np.array(np.zeros([max_elem+1,max_elem+1]))\n",
    "\n",
    "    for i in range(1000):\n",
    "        current_state = np.random.randint(0,max_elem+1) # Python excludes the upper bound\n",
    "        playable_actions = []\n",
    "        for j in range(max_elem+1):\n",
    "            if rewards_new[current_state,j] > 0:\n",
    "                playable_actions.append(j)\n",
    "        if playable_actions:\n",
    "            next_state = np.random.choice(playable_actions)\n",
    "            TD = rewards_new[current_state,next_state] + gamma * Q[next_state, np.argmax(Q[next_state,])] - Q[current_state,next_state]\n",
    "            Q[current_state,next_state] += alpha * TD\n",
    "  \n",
    "    route = [start_location]\n",
    "    \n",
    "    next_location = start_location\n",
    "    \n",
    "    while(next_location != end_location):\n",
    "        starting_state = location_to_state[start_location]    \n",
    "        \n",
    "        next_state = np.argmax(Q[starting_state,])\n",
    "    \n",
    "        next_location = state_to_location[next_state]\n",
    "        route.append(next_location)\n",
    "        start_location = next_location\n",
    "    return route"
   ]
  },
  {
   "cell_type": "code",
   "execution_count": 12,
   "metadata": {},
   "outputs": [
    {
     "data": {
      "text/plain": [
       "['1', '2', '4', '7']"
      ]
     },
     "execution_count": 12,
     "metadata": {},
     "output_type": "execute_result"
    }
   ],
   "source": [
    "get_optimal_route('1','7',location_to_state,state_to_location,path_array)"
   ]
  },
  {
   "cell_type": "code",
   "execution_count": 13,
   "metadata": {},
   "outputs": [
    {
     "data": {
      "text/plain": [
       "['1',\n",
       " 'try',\n",
       " 'invalid_long',\n",
       " 'lastname',\n",
       " 'click',\n",
       " 'commit',\n",
       " 'observe',\n",
       " 'errormessage']"
      ]
     },
     "execution_count": 13,
     "metadata": {},
     "output_type": "execute_result"
    }
   ],
   "source": [
    "get_optimal_route('1','errormessage',location_to_state1,state_to_location1,sequence_array)"
   ]
  },
  {
   "cell_type": "code",
   "execution_count": 14,
   "metadata": {},
   "outputs": [],
   "source": [
    "result_lst = []\n",
    "for i in range(10):\n",
    "    result_lst.append(get_optimal_route('1','errormessage',location_to_state1,state_to_location1,sequence_array))\n",
    "\n",
    "seq1 = [list(item) for item in set(tuple(row) for row in result_lst)]"
   ]
  },
  {
   "cell_type": "code",
   "execution_count": 15,
   "metadata": {},
   "outputs": [
    {
     "data": {
      "text/plain": [
       "[['1',\n",
       "  'try',\n",
       "  'invalid_long',\n",
       "  'lastname',\n",
       "  'click',\n",
       "  'commit',\n",
       "  'observe',\n",
       "  'errormessage'],\n",
       " ['1',\n",
       "  'try',\n",
       "  'valid',\n",
       "  'lastname',\n",
       "  'click',\n",
       "  'commit',\n",
       "  'notobserve',\n",
       "  'errormessage'],\n",
       " ['1',\n",
       "  'try',\n",
       "  'invalid_special_characters',\n",
       "  'lastname',\n",
       "  'click',\n",
       "  'commit',\n",
       "  'observe',\n",
       "  'errormessage'],\n",
       " ['1',\n",
       "  'try',\n",
       "  'blank',\n",
       "  'lastname',\n",
       "  'click',\n",
       "  'commit',\n",
       "  'notobserve',\n",
       "  'errormessage']]"
      ]
     },
     "execution_count": 15,
     "metadata": {},
     "output_type": "execute_result"
    }
   ],
   "source": [
    "seq1"
   ]
  },
  {
   "cell_type": "code",
   "execution_count": 16,
   "metadata": {},
   "outputs": [],
   "source": [
    "for i in seq1:\n",
    "    i[0]=get_optimal_route(i[0][0],i[0][-1],location_to_state,state_to_location,path_array)"
   ]
  },
  {
   "cell_type": "code",
   "execution_count": 17,
   "metadata": {},
   "outputs": [
    {
     "data": {
      "text/plain": [
       "[[['1'],\n",
       "  'try',\n",
       "  'invalid_long',\n",
       "  'lastname',\n",
       "  'click',\n",
       "  'commit',\n",
       "  'observe',\n",
       "  'errormessage'],\n",
       " [['1'],\n",
       "  'try',\n",
       "  'valid',\n",
       "  'lastname',\n",
       "  'click',\n",
       "  'commit',\n",
       "  'notobserve',\n",
       "  'errormessage'],\n",
       " [['1'],\n",
       "  'try',\n",
       "  'invalid_special_characters',\n",
       "  'lastname',\n",
       "  'click',\n",
       "  'commit',\n",
       "  'observe',\n",
       "  'errormessage'],\n",
       " [['1'],\n",
       "  'try',\n",
       "  'blank',\n",
       "  'lastname',\n",
       "  'click',\n",
       "  'commit',\n",
       "  'notobserve',\n",
       "  'errormessage']]"
      ]
     },
     "execution_count": 17,
     "metadata": {},
     "output_type": "execute_result"
    }
   ],
   "source": [
    "seq1"
   ]
  },
  {
   "cell_type": "code",
   "execution_count": 22,
   "metadata": {},
   "outputs": [],
   "source": [
    "result_lst = []\n",
    "for i in range(30):\n",
    "    result_lst.append(get_optimal_route('try','errormessage',location_to_state1,state_to_location1,sequence_array))\n",
    "\n",
    "seq_try = [list(item) for item in set(tuple(row) for row in result_lst)]"
   ]
  },
  {
   "cell_type": "code",
   "execution_count": 23,
   "metadata": {},
   "outputs": [
    {
     "data": {
      "text/plain": [
       "['1,try,valid,lastname,click,commit,notobserve,errormessage',\n",
       " '1,try,blank,lastname,click,commit,notobserve,errormessage',\n",
       " '1,try,invalid_special_characters,lastname,click,commit,observe,errormessage',\n",
       " '1,try,invalid_long,lastname,click,commit,observe,errormessage',\n",
       " '12,try,valid,pin1,click,notobserve,errormessage',\n",
       " '12,try,valid,pin2,click,notobserve,errormessage',\n",
       " '13,try,invalid,password,length,notobserve,errormessage',\n",
       " '13,try,valid,password,length,observe,errormessage',\n",
       " '135,auto,invalid,pin2,click,notobserve,errormessage',\n",
       " '135,auto,valid,pin2,click,notobserve,errormessage',\n",
       " '124,try,valid,extra_info1,click,observe,errormessage',\n",
       " '124,try,correct,extra_info2,select,notobserve,errormessage',\n",
       " '1358,pincode,correct,extra_info2,click,notobserve,errormessage',\n",
       " '1247,try,notcorrect,help,click,notobserve,errormessage',\n",
       " '1247,try,correct,help,click,notobserve,errormessage',\n",
       " '1246,auto,valid,dragdrop,click,observe,errormessage',\n",
       " '1246,auto,valid,dragdrop,click,notobserve,errormessage']"
      ]
     },
     "execution_count": 23,
     "metadata": {},
     "output_type": "execute_result"
    }
   ],
   "source": [
    "sequence_list"
   ]
  },
  {
   "cell_type": "code",
   "execution_count": 24,
   "metadata": {},
   "outputs": [
    {
     "data": {
      "text/plain": [
       "[['try', 'notcorrect', 'help', 'click', 'notobserve', 'errormessage'],\n",
       " ['try', 'correct', 'help', 'click', 'notobserve', 'errormessage'],\n",
       " ['try', 'valid', 'lastname', 'click', 'commit', 'notobserve', 'errormessage'],\n",
       " ['try', 'valid', 'password', 'length', 'observe', 'errormessage'],\n",
       " ['try', 'correct', 'extra_info2', 'select', 'notobserve', 'errormessage'],\n",
       " ['try', 'blank', 'lastname', 'click', 'commit', 'notobserve', 'errormessage'],\n",
       " ['try',\n",
       "  'invalid_special_characters',\n",
       "  'lastname',\n",
       "  'click',\n",
       "  'commit',\n",
       "  'observe',\n",
       "  'errormessage'],\n",
       " ['try',\n",
       "  'invalid_long',\n",
       "  'lastname',\n",
       "  'click',\n",
       "  'commit',\n",
       "  'observe',\n",
       "  'errormessage'],\n",
       " ['try', 'invalid', 'password', 'length', 'notobserve', 'errormessage'],\n",
       " ['try', 'valid', 'pin1', 'click', 'notobserve', 'errormessage']]"
      ]
     },
     "execution_count": 24,
     "metadata": {},
     "output_type": "execute_result"
    }
   ],
   "source": [
    "seq_try"
   ]
  },
  {
   "cell_type": "code",
   "execution_count": 25,
   "metadata": {},
   "outputs": [],
   "source": [
    "result_lst = []\n",
    "for i in range(100):\n",
    "    result_lst.append(get_optimal_route('1358','errormessage',location_to_state1,state_to_location1,sequence_array))\n",
    "\n",
    "seq2 = [list(item) for item in set(tuple(row) for row in result_lst)]\n",
    "\n",
    "for i in seq2:\n",
    "    i[0]=get_optimal_route(i[0][0],i[0][-1],location_to_state,state_to_location,path_array)"
   ]
  },
  {
   "cell_type": "code",
   "execution_count": 26,
   "metadata": {},
   "outputs": [
    {
     "data": {
      "text/plain": [
       "[[['1', '3', '5', '8'],\n",
       "  'pincode',\n",
       "  'correct',\n",
       "  'extra_info2',\n",
       "  'click',\n",
       "  'notobserve',\n",
       "  'errormessage']]"
      ]
     },
     "execution_count": 26,
     "metadata": {},
     "output_type": "execute_result"
    }
   ],
   "source": [
    "seq2"
   ]
  },
  {
   "cell_type": "code",
   "execution_count": 27,
   "metadata": {},
   "outputs": [],
   "source": [
    "result_lst = []\n",
    "for i in range(100):\n",
    "    result_lst.append(get_optimal_route('135','errormessage',location_to_state1,state_to_location1,sequence_array))\n",
    "\n",
    "seq3 = [list(item) for item in set(tuple(row) for row in result_lst)]\n",
    "\n",
    "for i in seq3:\n",
    "    i[0]=get_optimal_route(i[0][0],i[0][-1],location_to_state,state_to_location,path_array)"
   ]
  },
  {
   "cell_type": "code",
   "execution_count": 28,
   "metadata": {
    "scrolled": true
   },
   "outputs": [
    {
     "data": {
      "text/plain": [
       "[[['1', '3', '5'],\n",
       "  'auto',\n",
       "  'valid',\n",
       "  'pin2',\n",
       "  'click',\n",
       "  'notobserve',\n",
       "  'errormessage'],\n",
       " [['1', '3', '5'],\n",
       "  'auto',\n",
       "  'invalid',\n",
       "  'pin2',\n",
       "  'click',\n",
       "  'notobserve',\n",
       "  'errormessage']]"
      ]
     },
     "execution_count": 28,
     "metadata": {},
     "output_type": "execute_result"
    }
   ],
   "source": [
    "seq3"
   ]
  },
  {
   "cell_type": "code",
   "execution_count": 29,
   "metadata": {},
   "outputs": [],
   "source": [
    "def get_unique_seq(alist):\n",
    "    x = []\n",
    "    for i in alist:\n",
    "        i = i.split(\",\")\n",
    "        x.append([i[0],i[-1]])\n",
    "    x = [list(item) for item in set(tuple(row) for row in x)]\n",
    "    return x"
   ]
  },
  {
   "cell_type": "code",
   "execution_count": 30,
   "metadata": {},
   "outputs": [],
   "source": [
    "def obtain_all_sequences():    \n",
    "    uniq = get_unique_seq(sequence_list)\n",
    "    seq_i = []\n",
    "    for i in uniq:\n",
    "        print(i)\n",
    "        result_lst = []\n",
    "        for j in range(20):\n",
    "            result_lst.append(get_optimal_route(i[0],i[-1],location_to_state1,state_to_location1,sequence_array))\n",
    "        only_unique = [list(item) for item in set(tuple(row) for row in result_lst)]\n",
    "        seq_i.append(only_unique)\n",
    "    return seq_i"
   ]
  },
  {
   "cell_type": "code",
   "execution_count": 31,
   "metadata": {},
   "outputs": [
    {
     "name": "stdout",
     "output_type": "stream",
     "text": [
      "['12', 'errormessage']\n",
      "['1246', 'errormessage']\n",
      "['1247', 'errormessage']\n",
      "['135', 'errormessage']\n",
      "['1', 'errormessage']\n",
      "['13', 'errormessage']\n",
      "['1358', 'errormessage']\n",
      "['124', 'errormessage']\n"
     ]
    }
   ],
   "source": [
    "seq_i = obtain_all_sequences()"
   ]
  },
  {
   "cell_type": "code",
   "execution_count": 32,
   "metadata": {},
   "outputs": [
    {
     "data": {
      "text/plain": [
       "[[['12', 'try', 'valid', 'pin1', 'click', 'notobserve', 'errormessage'],\n",
       "  ['12', 'try', 'valid', 'pin2', 'click', 'notobserve', 'errormessage']],\n",
       " [['1246', 'auto', 'valid', 'dragdrop', 'click', 'notobserve', 'errormessage'],\n",
       "  ['1246', 'auto', 'valid', 'dragdrop', 'click', 'observe', 'errormessage']],\n",
       " [['1247', 'try', 'correct', 'help', 'click', 'notobserve', 'errormessage'],\n",
       "  ['1247',\n",
       "   'try',\n",
       "   'notcorrect',\n",
       "   'help',\n",
       "   'click',\n",
       "   'notobserve',\n",
       "   'errormessage']],\n",
       " [['135', 'auto', 'valid', 'pin2', 'click', 'notobserve', 'errormessage'],\n",
       "  ['135', 'auto', 'invalid', 'pin2', 'click', 'notobserve', 'errormessage']],\n",
       " [['1',\n",
       "   'try',\n",
       "   'invalid_long',\n",
       "   'lastname',\n",
       "   'click',\n",
       "   'commit',\n",
       "   'observe',\n",
       "   'errormessage'],\n",
       "  ['1',\n",
       "   'try',\n",
       "   'valid',\n",
       "   'lastname',\n",
       "   'click',\n",
       "   'commit',\n",
       "   'notobserve',\n",
       "   'errormessage'],\n",
       "  ['1',\n",
       "   'try',\n",
       "   'invalid_special_characters',\n",
       "   'lastname',\n",
       "   'click',\n",
       "   'commit',\n",
       "   'observe',\n",
       "   'errormessage'],\n",
       "  ['1',\n",
       "   'try',\n",
       "   'blank',\n",
       "   'lastname',\n",
       "   'click',\n",
       "   'commit',\n",
       "   'notobserve',\n",
       "   'errormessage']],\n",
       " [['13', 'try', 'invalid', 'password', 'length', 'notobserve', 'errormessage'],\n",
       "  ['13', 'try', 'valid', 'password', 'length', 'observe', 'errormessage']],\n",
       " [['1358',\n",
       "   'pincode',\n",
       "   'correct',\n",
       "   'extra_info2',\n",
       "   'click',\n",
       "   'notobserve',\n",
       "   'errormessage']],\n",
       " [['124', 'try', 'valid', 'extra_info1', 'click', 'observe', 'errormessage'],\n",
       "  ['124',\n",
       "   'try',\n",
       "   'correct',\n",
       "   'extra_info2',\n",
       "   'select',\n",
       "   'notobserve',\n",
       "   'errormessage']]]"
      ]
     },
     "execution_count": 32,
     "metadata": {},
     "output_type": "execute_result"
    }
   ],
   "source": [
    "seq_i"
   ]
  },
  {
   "cell_type": "code",
   "execution_count": 33,
   "metadata": {},
   "outputs": [
    {
     "data": {
      "text/plain": [
       "{12: {'observe': [], 'notobserve': []},\n",
       " 1246: {'observe': [], 'notobserve': []},\n",
       " 1247: {'observe': [], 'notobserve': []},\n",
       " 135: {'observe': [], 'notobserve': []},\n",
       " 1: {'observe': [], 'notobserve': []},\n",
       " 13: {'observe': [], 'notobserve': []},\n",
       " 1358: {'observe': [], 'notobserve': []},\n",
       " 124: {'observe': [], 'notobserve': []}}"
      ]
     },
     "execution_count": 33,
     "metadata": {},
     "output_type": "execute_result"
    }
   ],
   "source": [
    "def build_dict():\n",
    "    dictionary = dict()\n",
    "    uniq = get_unique_seq(sequence_list)\n",
    "    for i in uniq:\n",
    "        i = int(i[0])\n",
    "        dictionary[i]={\"observe\":[],\"notobserve\":[]}\n",
    "    return dictionary\n",
    "final_res_dict = build_dict()\n",
    "final_res_dict"
   ]
  },
  {
   "cell_type": "code",
   "execution_count": 34,
   "metadata": {},
   "outputs": [],
   "source": [
    "def obtain_result(dictionary):\n",
    "    for i in range(len(seq_i)):\n",
    "        for j in range(len(seq_i[i])):\n",
    "            if \"notobserve\" in seq_i[i][j]:\n",
    "                dictionary[int(seq_i[i][j][0])][\"notobserve\"].append(seq_i[i][j][1:])\n",
    "            elif \"observe\" in seq_i[i][j]:\n",
    "                dictionary[int(seq_i[i][j][0])][\"observe\"].append(seq_i[i][j][1:])\n",
    "    return dictionary\n",
    "        "
   ]
  },
  {
   "cell_type": "code",
   "execution_count": 35,
   "metadata": {},
   "outputs": [
    {
     "data": {
      "text/plain": [
       "{12: {'observe': [],\n",
       "  'notobserve': [['try',\n",
       "    'valid',\n",
       "    'pin1',\n",
       "    'click',\n",
       "    'notobserve',\n",
       "    'errormessage'],\n",
       "   ['try', 'valid', 'pin2', 'click', 'notobserve', 'errormessage']]},\n",
       " 1246: {'observe': [['auto',\n",
       "    'valid',\n",
       "    'dragdrop',\n",
       "    'click',\n",
       "    'observe',\n",
       "    'errormessage']],\n",
       "  'notobserve': [['auto',\n",
       "    'valid',\n",
       "    'dragdrop',\n",
       "    'click',\n",
       "    'notobserve',\n",
       "    'errormessage']]},\n",
       " 1247: {'observe': [],\n",
       "  'notobserve': [['try',\n",
       "    'correct',\n",
       "    'help',\n",
       "    'click',\n",
       "    'notobserve',\n",
       "    'errormessage'],\n",
       "   ['try', 'notcorrect', 'help', 'click', 'notobserve', 'errormessage']]},\n",
       " 135: {'observe': [],\n",
       "  'notobserve': [['auto',\n",
       "    'valid',\n",
       "    'pin2',\n",
       "    'click',\n",
       "    'notobserve',\n",
       "    'errormessage'],\n",
       "   ['auto', 'invalid', 'pin2', 'click', 'notobserve', 'errormessage']]},\n",
       " 1: {'observe': [['try',\n",
       "    'invalid_long',\n",
       "    'lastname',\n",
       "    'click',\n",
       "    'commit',\n",
       "    'observe',\n",
       "    'errormessage'],\n",
       "   ['try',\n",
       "    'invalid_special_characters',\n",
       "    'lastname',\n",
       "    'click',\n",
       "    'commit',\n",
       "    'observe',\n",
       "    'errormessage']],\n",
       "  'notobserve': [['try',\n",
       "    'valid',\n",
       "    'lastname',\n",
       "    'click',\n",
       "    'commit',\n",
       "    'notobserve',\n",
       "    'errormessage'],\n",
       "   ['try',\n",
       "    'blank',\n",
       "    'lastname',\n",
       "    'click',\n",
       "    'commit',\n",
       "    'notobserve',\n",
       "    'errormessage']]},\n",
       " 13: {'observe': [['try',\n",
       "    'valid',\n",
       "    'password',\n",
       "    'length',\n",
       "    'observe',\n",
       "    'errormessage']],\n",
       "  'notobserve': [['try',\n",
       "    'invalid',\n",
       "    'password',\n",
       "    'length',\n",
       "    'notobserve',\n",
       "    'errormessage']]},\n",
       " 1358: {'observe': [],\n",
       "  'notobserve': [['pincode',\n",
       "    'correct',\n",
       "    'extra_info2',\n",
       "    'click',\n",
       "    'notobserve',\n",
       "    'errormessage']]},\n",
       " 124: {'observe': [['try',\n",
       "    'valid',\n",
       "    'extra_info1',\n",
       "    'click',\n",
       "    'observe',\n",
       "    'errormessage']],\n",
       "  'notobserve': [['try',\n",
       "    'correct',\n",
       "    'extra_info2',\n",
       "    'select',\n",
       "    'notobserve',\n",
       "    'errormessage']]}}"
      ]
     },
     "execution_count": 35,
     "metadata": {},
     "output_type": "execute_result"
    }
   ],
   "source": [
    "final_res_dict = obtain_result(final_res_dict)\n",
    "final_res_dict"
   ]
  },
  {
   "cell_type": "code",
   "execution_count": 37,
   "metadata": {},
   "outputs": [],
   "source": [
    "import pickle\n",
    "\n",
    "with open('result.pickle','wb') as handle:\n",
    "    pickle.dump(final_res_dict, handle, protocol=pickle.HIGHEST_PROTOCOL)"
   ]
  },
  {
   "cell_type": "code",
   "execution_count": null,
   "metadata": {},
   "outputs": [],
   "source": []
  }
 ],
 "metadata": {
  "kernelspec": {
   "display_name": "Python 3",
   "language": "python",
   "name": "python3"
  },
  "language_info": {
   "codemirror_mode": {
    "name": "ipython",
    "version": 3
   },
   "file_extension": ".py",
   "mimetype": "text/x-python",
   "name": "python",
   "nbconvert_exporter": "python",
   "pygments_lexer": "ipython3",
   "version": "3.7.4"
  }
 },
 "nbformat": 4,
 "nbformat_minor": 2
}
